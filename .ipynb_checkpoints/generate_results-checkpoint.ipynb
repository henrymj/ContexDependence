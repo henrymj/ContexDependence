{
 "cells": [
  {
   "cell_type": "code",
   "execution_count": 1,
   "metadata": {},
   "outputs": [],
   "source": [
    "# import warnings\n",
    "import rpy2\n",
    "import math\n",
    "import matplotlib\n",
    "import numpy as np\n",
    "import pandas as pd\n",
    "import seaborn as sns\n",
    "import scipy.stats as stats\n",
    "import matplotlib.pyplot as plt\n",
    "from os import path, makedirs\n",
    "from glob import glob\n",
    "from statsmodels.stats.anova import AnovaRM\n",
    "from rpy2.robjects.packages import importr\n",
    "# import rpy2\n",
    "\n",
    "    \n",
    "from utils import formats, full_passed_turkers, DATA_DIR\n",
    "from utils import read_cond_file, violation_analysis, get_attr, calc_SSRT, filter_ssrt_subs, get_p_str, ssrt_comparison\n",
    "%matplotlib inline\n",
    "%load_ext rpy2.ipython"
   ]
  },
  {
   "cell_type": "code",
   "execution_count": 2,
   "metadata": {},
   "outputs": [],
   "source": [
    "try:\n",
    "    BayesFactor = importr('BayesFactor')\n",
    "except:\n",
    "    utils = importr('utils')\n",
    "    utils.install_packages('BayesFactor', repo=\"http://cran.rstudio.com/\")\n",
    "    BayesFactor = importr('BayesFactor')\n",
    "    \n",
    "try:\n",
    "    rstatix = importr('rstatix')\n",
    "except:\n",
    "    utils = importr('utils')\n",
    "    utils.install_packages('rstatix', repo=\"http://cran.rstudio.com/\") \n",
    "    rstatix = importr('rstatix')\n",
    "    \n",
    "# try:\n",
    "#     phia = importr('phia')\n",
    "# except:\n",
    "#     utils = importr('utils')\n",
    "#     utils.install_packages('phia', repo=\"http://cran.rstudio.com/\") \n",
    "#     phia = importr('phia')"
   ]
  },
  {
   "cell_type": "code",
   "execution_count": 3,
   "metadata": {},
   "outputs": [],
   "source": [
    "JASP_DIR = 'Fig3Jasp'\n",
    "makedirs(JASP_DIR, exist_ok=True)\n",
    "F2_INPUT_DIR = path.join(JASP_DIR, 'Input')\n",
    "makedirs(F2_INPUT_DIR, exist_ok=True)"
   ]
  },
  {
   "cell_type": "markdown",
   "metadata": {},
   "source": [
    "# Helper Functions"
   ]
  },
  {
   "cell_type": "code",
   "execution_count": 4,
   "metadata": {},
   "outputs": [],
   "source": [
    "def get_attr(rout, attr='bf'):\n",
    "    # Takes in an rpy2 vector, returns the value of an attribute\n",
    "    # Used for BayesFactor\n",
    "        try:\n",
    "            index = list(rout.names).index(attr)\n",
    "            val = list(rout.items())[index][1]\n",
    "            if len(val) == 1:\n",
    "                val = val[0]\n",
    "            if type(val)==rpy2.robjects.vectors.Matrix:\n",
    "                val = np.asarray(val)\n",
    "            return val\n",
    "        except ValueError:\n",
    "            print('Did not pass a valid attribute')"
   ]
  },
  {
   "cell_type": "code",
   "execution_count": 5,
   "metadata": {},
   "outputs": [],
   "source": [
    "def get_mean_corr_RT(sub_df, trial_type=''):\n",
    "    assert((trial_type=='GoCritical') | (trial_type=='GoNoncritical') | (trial_type=='Go'))\n",
    "\n",
    "    # get relevant columns\n",
    "    rt_col = trial_type+'RT'\n",
    "    response_col = trial_type+'TrialResponse'\n",
    "    corr_resp_col = trial_type+'TrialCorrectResponse'\n",
    "    \n",
    "    #convert to columns to string but leave nans alone\n",
    "    sub_df[response_col] = np.where(pd.isnull(sub_df[response_col]),sub_df[response_col],sub_df[response_col].astype(str))\n",
    "    sub_df[corr_resp_col] = np.where(pd.isnull(sub_df[corr_resp_col]),sub_df[corr_resp_col],sub_df[corr_resp_col].astype(str))\n",
    "    \n",
    "    #subset to correct answers\n",
    "    correct_trials = sub_df[sub_df[response_col].str.lower()==sub_df[corr_resp_col].str.lower()] \n",
    "    #take mean of correct RTs\n",
    "    mean_rt = correct_trials[rt_col].mean()\n",
    "\n",
    "    return(mean_rt)"
   ]
  },
  {
   "cell_type": "code",
   "execution_count": 6,
   "metadata": {},
   "outputs": [],
   "source": [
    "def get_acc(sub_df, trial_type=''):\n",
    "    assert((trial_type=='GoCritical') | (trial_type=='GoNoncritical') | (trial_type=='Go') | (trial_type=='Stop'))\n",
    "    \n",
    "    # get relevant columns\n",
    "    response_col = trial_type+'TrialResponse'\n",
    "    corr_resp_col = trial_type+'TrialCorrectResponse'\n",
    "    #convert to columns to string but leave nans alone\n",
    "    sub_df[response_col] = np.where(pd.isnull(sub_df[response_col]),sub_df[response_col],sub_df[response_col].astype(str))\n",
    "    sub_df[corr_resp_col] = np.where(pd.isnull(sub_df[corr_resp_col]),sub_df[corr_resp_col],sub_df[corr_resp_col].astype(str))\n",
    "    if 'Go' in trial_type:\n",
    "        num_trials = sub_df.loc[sub_df['TrialType'].str.lower()==trial_type.lower(), 'TrialType'].count()\n",
    "        num_corr_trials = sub_df.loc[sub_df[response_col].str.lower()==sub_df[corr_resp_col].str.lower(),\n",
    "                                    'TrialType'].count()\n",
    "    else: #if stop, only take the trials that have a response as your total # of trials\n",
    "        num_trials = sub_df.loc[(sub_df['TrialType'].str.lower()==trial_type.lower()) & (sub_df['StopTrialResponse'].notnull()), 'TrialType'].count()\n",
    "        num_corr_trials = sub_df.loc[sub_df[response_col].str.lower()==sub_df[corr_resp_col].str.lower(),\n",
    "                                    'TrialType'].count()\n",
    "\n",
    "    return(num_corr_trials/num_trials)"
   ]
  },
  {
   "cell_type": "code",
   "execution_count": 7,
   "metadata": {},
   "outputs": [],
   "source": [
    "def get_P_resp_per_ssd(sub_df, ssds):\n",
    "    P_respond_per_ssd = []\n",
    "    for ssd in ssds:\n",
    "        stop_trials = sub_df.loc[sub_df.StopSignalDelay==ssd, 'StopFailureRT']\n",
    "        stop_fails = stop_trials > 0\n",
    "        p_respond = stop_fails.sum() / stop_trials.count()\n",
    "        P_respond_per_ssd.append(p_respond)\n",
    "    return(np.asarray(P_respond_per_ssd))"
   ]
  },
  {
   "cell_type": "code",
   "execution_count": 8,
   "metadata": {},
   "outputs": [],
   "source": [
    "def mk_anova_df(cond_dfs, labels, goRTKey = 'GoRT', goTrialKey='Go'):\n",
    "    no_stop_RTs = []\n",
    "    corrGo_RTs = []\n",
    "    stopFail_RTs = []\n",
    "    go_accs = []\n",
    "    p_responds = []\n",
    "    subjects = []\n",
    "    conditions = []\n",
    "    for cond_df, condition  in zip(cond_dfs, labels):\n",
    "        go_RT = 'GoRT'\n",
    "        go_trial='Go'\n",
    "        if 'GoCriticalRT' in cond_df.columns:\n",
    "            go_RT = 'GoCriticalRT'\n",
    "            go_trial = 'GoCritical'\n",
    "        all_subjects = cond_df.Subject.unique()\n",
    "        if len(all_subjects)==522: #if turk sample, swap out all subjects\n",
    "            all_subjects = full_passed_turkers\n",
    "        for subject in all_subjects:\n",
    "            subdata = cond_df.query('Subject == %d' % subject).copy()\n",
    "            #no-stop-signal RTs\n",
    "            curr_RT = subdata.loc[subdata[go_RT]>0, go_RT].mean()\n",
    "            no_stop_RTs.append(curr_RT)\n",
    "            #correct go RTs\n",
    "            curr_corrGo_RT = get_mean_corr_RT(subdata, trial_type=go_trial)\n",
    "            corrGo_RTs.append(curr_corrGo_RT)\n",
    "            #stop failure RT\n",
    "            curr_stopFail_RT = subdata.loc[subdata['StopFailureRT']>0, 'StopFailureRT'].mean()\n",
    "            stopFail_RTs.append(curr_stopFail_RT)\n",
    "            #go accuracy\n",
    "            curr_acc = get_acc(subdata, trial_type=go_trial)\n",
    "            go_accs.append(curr_acc)\n",
    "            #P (respond | signal)\n",
    "            stop_trials = subdata.loc[subdata.StopSignalDelay.notnull(), 'StopFailureRT']\n",
    "            stop_fails = stop_trials > 0 #find times when RT > 0 i.e. they responded\n",
    "            p_respond = stop_fails.sum() / stop_trials.count() #boolean aray vs series count fun\n",
    "            p_responds.append(p_respond)\n",
    "            #Note keeping\n",
    "            subjects.append(subject)\n",
    "            conditions.append(condition)\n",
    "\n",
    "    out_df = pd.DataFrame({'goRT': no_stop_RTs, 'corrGoRT': corrGo_RTs, 'GoACC': go_accs, 'stopFailRT': stopFail_RTs, 'p_respond': p_responds, 'subject': subjects, 'condition': conditions})\n",
    "    return out_df\n"
   ]
  },
  {
   "cell_type": "markdown",
   "metadata": {},
   "source": [
    "# __Run Violational Analyses__"
   ]
  },
  {
   "cell_type": "code",
   "execution_count": 9,
   "metadata": {},
   "outputs": [],
   "source": [
    "# get the various data files to analysis\n",
    "condition_files = glob(path.join(DATA_DIR, 'Data*'))\n",
    "condition_files = [filey for filey in condition_files if 'Matzke' not in filey]\n",
    "condition_files.sort()\n",
    "condition_files += ['Data/DataMatzke.xlsx'] #append Matzke data to keep preprint's order\n",
    "\n",
    "#for each data file, analyze and save the results\n",
    "for condition_file in condition_files:\n",
    "    _ = violation_analysis(condition_file, save_results=True, verbose=False)"
   ]
  },
  {
   "cell_type": "markdown",
   "metadata": {},
   "source": [
    "# __Supplementary Analyses__"
   ]
  },
  {
   "cell_type": "markdown",
   "metadata": {},
   "source": [
    "# __Fast vs Slow subjects (Condition 1)__"
   ]
  },
  {
   "cell_type": "code",
   "execution_count": 10,
   "metadata": {},
   "outputs": [],
   "source": [
    "cond1_df = read_cond_file('Data/DataFixedSSDs1.xlsx')"
   ]
  },
  {
   "cell_type": "code",
   "execution_count": 11,
   "metadata": {},
   "outputs": [
    {
     "name": "stdout",
     "output_type": "stream",
     "text": [
      "Mean correct Go RT =  490ms\n",
      "Mean Go Accuracy =  94.1%\n",
      "Mean stop failure RT =  469ms\n",
      "Mean Go RT  =  489ms\n",
      "Mean stop-failure RT was 469ms, which was significantly shorter\n",
      "than mean no-stop-signal RT excluding omissions (M = 489ms), t(23)= 5.81, p<0.001)\n",
      "--------------------------\n",
      "SSD || P(respond | signal)\n",
      "--------------------------\n",
      "100.0 ||  0.24\n",
      "200.0 ||  0.36\n",
      "300.0 ||  0.64\n",
      "400.0 ||  0.86\n",
      "500.0 ||  0.95\n",
      "--------------------------\n"
     ]
    }
   ],
   "source": [
    "cond1_ssds = ssdvals = [i for i in cond1_df.StopSignalDelay.unique() if isinstance(i, float) and i==i]\n",
    "cond1_ssds.sort()\n",
    "\n",
    "cond1_go_RTs = []\n",
    "cond1_go_accs = []\n",
    "cond1_stopFail_RTs = []\n",
    "cond1_allGo_RTs = []\n",
    "cond1_P_resp_per_ssd = []\n",
    "\n",
    "for subject in cond1_df.Subject.unique():\n",
    "    subdata = cond1_df.query('Subject == %d' % subject).copy()\n",
    "    #correct go RT\n",
    "    curr_corrGo_RT = get_mean_corr_RT(subdata, trial_type='Go')\n",
    "    cond1_go_RTs.append(curr_corrGo_RT)\n",
    "    #go accuracy\n",
    "    curr_acc = get_acc(subdata, trial_type='Go')\n",
    "    cond1_go_accs.append(curr_acc)\n",
    "    #stop failure RT\n",
    "    curr_stopFail_RT = subdata.loc[subdata['StopFailureRT']>0, 'StopFailureRT'].mean()\n",
    "    cond1_stopFail_RTs.append(curr_stopFail_RT)\n",
    "    #go RT\n",
    "    curr_allGo_RT = subdata.loc[subdata['GoRT']>0, 'GoRT'].mean()\n",
    "    cond1_allGo_RTs.append(curr_allGo_RT)\n",
    "    #P(repsond|signal)\n",
    "    curr_P_resp = get_P_resp_per_ssd(subdata, cond1_ssds)\n",
    "    cond1_P_resp_per_ssd.append(curr_P_resp)\n",
    "    \n",
    "    \n",
    "print(f'Mean correct Go RT = {np.mean(cond1_go_RTs): .0f}ms')\n",
    "print(f'Mean Go Accuracy = {np.mean(cond1_go_accs): .1%}')\n",
    "print(f'Mean stop failure RT = {np.mean(cond1_stopFail_RTs): .0f}ms')\n",
    "print(f'Mean Go RT  = {np.mean(cond1_allGo_RTs): .0f}ms')\n",
    "\n",
    "t, p = stats.ttest_1samp(np.asarray(cond1_allGo_RTs)-np.asarray(cond1_stopFail_RTs), 0)\n",
    "print(f'''Mean stop-failure RT was {np.mean(cond1_stopFail_RTs):.0f}ms, which was significantly shorter\n",
    "than mean no-stop-signal RT excluding omissions (M = {np.mean(cond1_allGo_RTs):.0f}ms), t({len(cond1_allGo_RTs)-1})={t: .2f}, p<{np.maximum(0.001, p)})''')\n",
    "\n",
    "p_resp_per_ssd_df = pd.DataFrame(np.asarray(cond1_P_resp_per_ssd).T, index=cond1_ssds, columns=cond1_df.Subject.unique())\n",
    "\n",
    "p_resp_per_ssd_series = p_resp_per_ssd_df.mean(1)\n",
    "p_resp_per_ssd_series.index.name='SSD'\n",
    "p_resp_per_ssd_series.name = 'P(respond|signal)'\n",
    "print('-'*26)\n",
    "print('SSD || P(respond | signal)')\n",
    "print('-'*26)\n",
    "for ssd in p_resp_per_ssd_series.index:\n",
    "    print(f'{ssd} || {p_resp_per_ssd_series[ssd]: .02f}')\n",
    "print('-'*26)\n",
    "\n",
    "\n",
    "# stopFail_df = subdata.loc[subdata['StopFailureRT']>0, ['GoTrialCorrectResponse', 'StopTrialResponse']]"
   ]
  },
  {
   "cell_type": "markdown",
   "metadata": {},
   "source": [
    "# choice accuracy on stop-failure trials at different SSDs"
   ]
  },
  {
   "cell_type": "code",
   "execution_count": 12,
   "metadata": {},
   "outputs": [],
   "source": [
    "cond1_addon_file = 'Data/FixedSSD1StopTrialChoiceAccuracyInput.xlsx'\n",
    "cond1_addon_df = pd.read_excel(cond1_addon_file)"
   ]
  },
  {
   "cell_type": "code",
   "execution_count": 13,
   "metadata": {},
   "outputs": [
    {
     "name": "stdout",
     "output_type": "stream",
     "text": [
      "Choice accuracy on stop-failure trials at short SSDs = 95.1%\n",
      "Choice accuracy on stop-failure trials at long SSDs = 93.8%\n",
      "Choice accuracy on stop-failure trials at all SSDs = 94.0%\n",
      "Choice accuracy on stop-failure trials at short SSDs (SSD <200ms, M accuracy = 95.1%)\n",
      "was not lower than at longer SSDs (SSD >= 200ms, M accuracy = 93.8%, t(23)=0.70, p = 0.49)\n",
      "or overall no-stop-signal accuracy (M = 94.0%, t(23)=0.64, p = 0.53)\n"
     ]
    }
   ],
   "source": [
    "#build up \"correct\" responses for stop trials\n",
    "cond1_df['StopTrialCorrectResponse'] = np.nan\n",
    "\n",
    "# circle response\n",
    "cond1_df.loc[(cond1_df['TrialType']=='stop') & (cond1_addon_df['Image[SubTrial]']=='circle.bmp'), 'StopTrialCorrectResponse'] = \\\n",
    "cond1_addon_df.loc[(cond1_df['TrialType']=='stop') & (cond1_addon_df['Image[SubTrial]']=='circle.bmp'), 'CircleResponse']\n",
    "\n",
    "# rhombus response\n",
    "cond1_df.loc[(cond1_df['TrialType']=='stop') & (cond1_addon_df['Image[SubTrial]']=='rhombus.bmp'), 'StopTrialCorrectResponse'] = \\\n",
    "cond1_addon_df.loc[(cond1_df['TrialType']=='stop') & (cond1_addon_df['Image[SubTrial]']=='rhombus.bmp'), 'RhombusResponse']\n",
    "\n",
    "# square response\n",
    "cond1_df.loc[(cond1_df['TrialType']=='stop') & (cond1_addon_df['Image[SubTrial]']=='square.bmp'), 'StopTrialCorrectResponse'] = \\\n",
    "cond1_addon_df.loc[(cond1_df['TrialType']=='stop') & (cond1_addon_df['Image[SubTrial]']=='square.bmp'), 'SquareResponse']\n",
    "\n",
    "# triangle response\n",
    "cond1_df.loc[(cond1_df['TrialType']=='stop') & (cond1_addon_df['Image[SubTrial]']=='triangle.bmp'), 'StopTrialCorrectResponse'] = \\\n",
    "cond1_addon_df.loc[(cond1_df['TrialType']=='stop') & (cond1_addon_df['Image[SubTrial]']=='triangle.bmp'), 'TriangleResponse']\n",
    "\n",
    "\n",
    "#Get accuracies for subsets of SSDs\n",
    "fullSSD_stopAcc = []\n",
    "shortSSD_stopAcc = []\n",
    "longSSD_stopAcc = []\n",
    "for subject in cond1_df.Subject.unique():\n",
    "    subdata = cond1_df.query('Subject == %d' % subject).copy()\n",
    "    full_stopAcc = get_acc(subdata, trial_type='Stop')\n",
    "    fullSSD_stopAcc.append(full_stopAcc)\n",
    "    short_stopAcc = get_acc(subdata.loc[(subdata['StopSignalDelay']<200) | (subdata['StopSignalDelay'].isnull()), :].copy(),\n",
    "                            trial_type='Stop')\n",
    "    shortSSD_stopAcc.append(short_stopAcc)\n",
    "    long_stopAcc = get_acc(subdata.loc[(subdata['StopSignalDelay']>=200) | (subdata['StopSignalDelay'].isnull()), :].copy(),\n",
    "                           trial_type='Stop')\n",
    "    longSSD_stopAcc.append(long_stopAcc) \n",
    "\n",
    "print(f'Choice accuracy on stop-failure trials at short SSDs = {np.mean(shortSSD_stopAcc):.1%}')\n",
    "print(f'Choice accuracy on stop-failure trials at long SSDs = {np.mean(longSSD_stopAcc):.1%}')\n",
    "print(f'Choice accuracy on stop-failure trials at all SSDs = {np.mean(fullSSD_stopAcc):.1%}')\n",
    "\n",
    "t_diff, p_diff = stats.ttest_1samp(np.asarray(shortSSD_stopAcc)-np.asarray(longSSD_stopAcc), 0)\n",
    "t_full, p_full = stats.ttest_1samp(np.asarray(shortSSD_stopAcc)-np.asarray(fullSSD_stopAcc), 0)\n",
    "print(f'''Choice accuracy on stop-failure trials at short SSDs (SSD <200ms, M accuracy = {np.mean(shortSSD_stopAcc):.1%})\n",
    "was not lower than at longer SSDs (SSD >= 200ms, M accuracy = {np.mean(longSSD_stopAcc):.1%}, t({len(longSSD_stopAcc)-1})={t_diff:.02f}, {get_p_str(p_diff)})\n",
    "or overall no-stop-signal accuracy (M = {np.mean(fullSSD_stopAcc):.1%}, t({len(fullSSD_stopAcc)-1})={t_full:.02f}, {get_p_str(p_full)})''')"
   ]
  },
  {
   "cell_type": "markdown",
   "metadata": {},
   "source": [
    "## SSRT x SSD "
   ]
  },
  {
   "cell_type": "code",
   "execution_count": 14,
   "metadata": {},
   "outputs": [
    {
     "name": "stdout",
     "output_type": "stream",
     "text": [
      "\u001b[1mFixed SSD 1\u001b[0m\n",
      "0 subject(s) excluded from Fixed SSD 1\n",
      "Overall SSRT (M = 200 ms) was significantly slower than SSRT with short SSDs excluded (M = 179 ms),\n",
      "t(23) = 8.89, p < 0.001\n",
      "\u001b[1m********************************************************************************\u001b[0m\n"
     ]
    }
   ],
   "source": [
    "ssrt_comparison([cond1_df], ['Fixed SSD 1'])"
   ]
  },
  {
   "cell_type": "code",
   "execution_count": 15,
   "metadata": {},
   "outputs": [],
   "source": [
    "del cond1_df"
   ]
  },
  {
   "cell_type": "markdown",
   "metadata": {},
   "source": [
    "# __Fast versus Slow Subjects (Condition 2)__"
   ]
  },
  {
   "cell_type": "code",
   "execution_count": 16,
   "metadata": {},
   "outputs": [],
   "source": [
    "# read in cond2 and add on StopTrialCorrectResponse\n",
    "cond2_df = read_cond_file('Data/DataFixedSSDs2.xlsx')\n",
    "\n",
    "cond2_addon_file = 'Data/FixedSSD2StopTrialChoiceAccuracyInput.xlsx'\n",
    "cond2_addon_df = pd.read_excel(cond2_addon_file)"
   ]
  },
  {
   "cell_type": "code",
   "execution_count": 17,
   "metadata": {},
   "outputs": [],
   "source": [
    "#build up \"correct\" responses for stop trials\n",
    "cond2_df['StopTrialCorrectResponse'] = np.nan\n",
    "\n",
    "# circle response\n",
    "cond2_df.loc[(cond2_df['TrialType']=='stop') & (cond2_addon_df['Unnamed: 5']=='circle.bmp'), 'StopTrialCorrectResponse'] = \\\n",
    "cond2_addon_df.loc[(cond2_df['TrialType']=='stop') & (cond2_addon_df['Unnamed: 5']=='circle.bmp'), 'CircleResponse']\n",
    "\n",
    "# rhombus response\n",
    "cond2_df.loc[(cond2_df['TrialType']=='stop') & (cond2_addon_df['Unnamed: 5']=='rhombus.bmp'), 'StopTrialCorrectResponse'] = \\\n",
    "cond2_addon_df.loc[(cond2_df['TrialType']=='stop') & (cond2_addon_df['Unnamed: 5']=='rhombus.bmp'), 'RhombusResponse']\n",
    "\n",
    "# square response\n",
    "cond2_df.loc[(cond2_df['TrialType']=='stop') & (cond2_addon_df['Unnamed: 5']=='square.bmp'), 'StopTrialCorrectResponse'] = \\\n",
    "cond2_addon_df.loc[(cond2_df['TrialType']=='stop') & (cond2_addon_df['Unnamed: 5']=='square.bmp'), 'SquareResponse']\n",
    "\n",
    "# triangle response\n",
    "cond2_df.loc[(cond2_df['TrialType']=='stop') & (cond2_addon_df['Unnamed: 5']=='triangle.bmp'), 'StopTrialCorrectResponse'] = \\\n",
    "cond2_addon_df.loc[(cond2_df['TrialType']=='stop') & (cond2_addon_df['Unnamed: 5']=='triangle.bmp'), 'TriangleResponse']"
   ]
  },
  {
   "cell_type": "code",
   "execution_count": 18,
   "metadata": {},
   "outputs": [
    {
     "name": "stdout",
     "output_type": "stream",
     "text": [
      "Mean correct Go RT =  473ms\n",
      "Mean Go Accuracy =  94.8%\n",
      "Mean stop failure RT =  456ms\n",
      "Mean Go RT  =  472ms\n",
      "*******************************************************************************\n",
      "Mean stop-failure RT was 456ms, which was significantly shorter\n",
      "than mean no-stop-signal RT excluding omissions (M = 472ms), t(23)= 3.81, p<0.001)\n",
      "--------------------------\n",
      "SSD || P(respond | signal)\n",
      "--------------------------\n",
      "0.0 ||  0.20\n",
      "50.0 ||  0.22\n",
      "100.0 ||  0.24\n",
      "150.0 ||  0.34\n",
      "200.0 ||  0.46\n",
      "250.0 ||  0.60\n",
      "300.0 ||  0.73\n",
      "350.0 ||  0.82\n",
      "400.0 ||  0.89\n",
      "450.0 ||  0.92\n",
      "500.0 ||  0.94\n",
      "--------------------------\n"
     ]
    }
   ],
   "source": [
    "cond2_ssds = ssdvals = [i for i in cond2_df.StopSignalDelay.unique() if isinstance(i, float) and i==i]\n",
    "cond2_ssds.sort()\n",
    "\n",
    "cond2_go_RTs = []\n",
    "cond2_go_accs = []\n",
    "cond2_stopFail_RTs = []\n",
    "cond2_allGo_RTs = []\n",
    "cond2_P_resp_per_ssd = []\n",
    "\n",
    "for subject in cond2_df.Subject.unique():\n",
    "    subdata = cond2_df.query('Subject == %d' % subject).copy()\n",
    "    #correct go RT\n",
    "    curr_corrGo_RT = get_mean_corr_RT(subdata, trial_type='Go')\n",
    "    cond2_go_RTs.append(curr_corrGo_RT)\n",
    "    #go accuracy\n",
    "    curr_acc = get_acc(subdata, trial_type='Go')\n",
    "    cond2_go_accs.append(curr_acc)\n",
    "    #stop failure RT\n",
    "    curr_stopFail_RT = subdata.loc[subdata['StopFailureRT']>0, 'StopFailureRT'].mean()\n",
    "    cond2_stopFail_RTs.append(curr_stopFail_RT)\n",
    "    #go RT\n",
    "    curr_allGo_RT = subdata.loc[subdata['GoRT']>0, 'GoRT'].mean()\n",
    "    cond2_allGo_RTs.append(curr_allGo_RT)\n",
    "    #P(repsond|signal)\n",
    "    curr_P_resp = get_P_resp_per_ssd(subdata, cond2_ssds)\n",
    "    cond2_P_resp_per_ssd.append(curr_P_resp)\n",
    "    \n",
    "    \n",
    "print(f'Mean correct Go RT = {np.mean(cond2_go_RTs): .0f}ms')\n",
    "print(f'Mean Go Accuracy = {np.mean(cond2_go_accs): .1%}')\n",
    "print(f'Mean stop failure RT = {np.mean(cond2_stopFail_RTs): .0f}ms')\n",
    "print(f'Mean Go RT  = {np.mean(cond2_allGo_RTs): .0f}ms')\n",
    "\n",
    "t, p = stats.ttest_1samp(np.asarray(cond2_allGo_RTs)-np.asarray(cond2_stopFail_RTs), 0)\n",
    "print('*'*79)\n",
    "print(f'''Mean stop-failure RT was {np.mean(cond2_stopFail_RTs):.0f}ms, which was significantly shorter\n",
    "than mean no-stop-signal RT excluding omissions (M = {np.mean(cond2_allGo_RTs):.0f}ms), t({len(cond2_allGo_RTs)-1})={t: .2f}, p<{np.maximum(0.001, p)})''')\n",
    "\n",
    "p_resp_per_ssd_df = pd.DataFrame(np.asarray(cond2_P_resp_per_ssd).T, index=cond2_ssds, columns=cond2_df.Subject.unique())\n",
    "\n",
    "p_resp_per_ssd_series = p_resp_per_ssd_df.mean(1)\n",
    "p_resp_per_ssd_series.index.name='SSD'\n",
    "p_resp_per_ssd_series.name = 'P(respond|signal)'\n",
    "print('-'*26)\n",
    "print('SSD || P(respond | signal)')\n",
    "print('-'*26)\n",
    "for ssd in p_resp_per_ssd_series.index:\n",
    "    print(f'{ssd} || {p_resp_per_ssd_series[ssd]: .02f}')\n",
    "print('-'*26)\n",
    "\n",
    "\n",
    "# stopFail_df = subdata.loc[subdata['StopFailureRT']>0, ['GoTrialCorrectResponse', 'StopTrialResponse']]"
   ]
  },
  {
   "cell_type": "code",
   "execution_count": 19,
   "metadata": {},
   "outputs": [
    {
     "name": "stdout",
     "output_type": "stream",
     "text": [
      "Choice accuracy on stop-failure trials at short SSDs = 97.2%\n",
      "Choice accuracy on stop-failure trials at long SSDs = 95.6%\n",
      "Choice accuracy on stop-failure trials at all SSDs = 95.8%\n",
      "*******************************************************************************\n",
      "Choice accuracy on stop-failure trials at short SSDs (SSD <200ms, M accuracy = 97.2%)\n",
      "was not lower than at longer SSDs (SSD >= 200ms, M accuracy = 95.6%, t(23)=1.92, p = 0.07)\n",
      "or overall no-stop-signal accuracy (M = 95.8%, t(23)=1.75, p = 0.09)\n"
     ]
    }
   ],
   "source": [
    "#Get accuracies for subsets of SSDs\n",
    "fullSSD_stopAcc = []\n",
    "shortSSD_stopAcc = []\n",
    "longSSD_stopAcc = []\n",
    "for subject in cond2_df.Subject.unique():\n",
    "    subdata = cond2_df.query('Subject == %d' % subject).copy()\n",
    "    full_stopAcc = get_acc(subdata, trial_type='Stop')\n",
    "    fullSSD_stopAcc.append(full_stopAcc)\n",
    "    sub200_df = subdata.loc[(subdata['StopSignalDelay']<200) | (subdata['StopSignalDelay'].isnull()), :].copy()\n",
    "    short_stopAcc = get_acc(sub200_df, trial_type='Stop')\n",
    "    shortSSD_stopAcc.append(short_stopAcc)\n",
    "    geq200_df = subdata.loc[(subdata['StopSignalDelay']>=200) | (subdata['StopSignalDelay'].isnull()), :].copy()\n",
    "    long_stopAcc = get_acc(geq200_df, trial_type='Stop')\n",
    "    longSSD_stopAcc.append(long_stopAcc) \n",
    "\n",
    "print(f'Choice accuracy on stop-failure trials at short SSDs = {np.mean(shortSSD_stopAcc):.1%}')\n",
    "print(f'Choice accuracy on stop-failure trials at long SSDs = {np.mean(longSSD_stopAcc):.1%}')\n",
    "print(f'Choice accuracy on stop-failure trials at all SSDs = {np.mean(fullSSD_stopAcc):.1%}')\n",
    "\n",
    "t_diff, p_diff = stats.ttest_1samp(np.asarray(shortSSD_stopAcc)-np.asarray(longSSD_stopAcc), 0)\n",
    "t_full, p_full = stats.ttest_1samp(np.asarray(shortSSD_stopAcc)-np.asarray(fullSSD_stopAcc), 0)\n",
    "print('*'*79)\n",
    "print(f'''Choice accuracy on stop-failure trials at short SSDs (SSD <200ms, M accuracy = {np.mean(shortSSD_stopAcc):.1%})\n",
    "was not lower than at longer SSDs (SSD >= 200ms, M accuracy = {np.mean(longSSD_stopAcc):.1%}, t({len(longSSD_stopAcc)-1})={t_diff:.02f}, {get_p_str(p_diff)})\n",
    "or overall no-stop-signal accuracy (M = {np.mean(fullSSD_stopAcc):.1%}, t({len(fullSSD_stopAcc)-1})={t_full:.02f}, {get_p_str(p_full)})''')"
   ]
  },
  {
   "cell_type": "markdown",
   "metadata": {},
   "source": [
    "## SSRT x SSD "
   ]
  },
  {
   "cell_type": "code",
   "execution_count": 20,
   "metadata": {},
   "outputs": [
    {
     "name": "stdout",
     "output_type": "stream",
     "text": [
      "\u001b[1mFixed SSDs 2\u001b[0m\n",
      "0 subject(s) excluded from Fixed SSDs 2\n",
      "Overall SSRT (M = 217 ms) was significantly slower than SSRT with short SSDs excluded (M = 185 ms),\n",
      "t(23) = 4.81, p < 0.001\n",
      "\u001b[1m********************************************************************************\u001b[0m\n"
     ]
    }
   ],
   "source": [
    "ssrt_comparison([cond2_df], ['Fixed SSDs 2'])"
   ]
  },
  {
   "cell_type": "code",
   "execution_count": 21,
   "metadata": {},
   "outputs": [],
   "source": [
    "del cond2_df"
   ]
  },
  {
   "cell_type": "markdown",
   "metadata": {},
   "source": [
    "# __Varying Go Response Deadlines (Conditions 3-8)__"
   ]
  },
  {
   "cell_type": "code",
   "execution_count": 22,
   "metadata": {},
   "outputs": [],
   "source": [
    "cond3_df = read_cond_file('Data/DataDeadline1300ms.xlsx')\n",
    "cond4_df = read_cond_file('Data/DataDeadline1500ms.xlsx')\n",
    "cond5_df = read_cond_file('Data/DataDeadline1700ms.xlsx')\n",
    "cond6_df = read_cond_file('Data/DataDeadline2300ms.xlsx')\n",
    "cond7_df = read_cond_file('Data/DataDeadline2500ms.xlsx')\n",
    "cond8_df = read_cond_file('Data/DataDeadline2700ms.xlsx')\n",
    "\n",
    "#shifting subjects in conditions 6-8 to keep IDs unique for combined analyses\n",
    "assert((cond3_df['Subject'].max()==cond4_df['Subject'].max()) & (cond4_df['Subject'].max()==cond5_df['Subject'].max()))\n",
    "\n",
    "cond6_df['Subject'] = cond6_df['Subject'] + cond5_df['Subject'].max()\n",
    "cond7_df['Subject'] = cond7_df['Subject'] + cond5_df['Subject'].max()\n",
    "cond8_df['Subject'] = cond8_df['Subject'] + cond5_df['Subject'].max()"
   ]
  },
  {
   "cell_type": "code",
   "execution_count": 23,
   "metadata": {},
   "outputs": [
    {
     "name": "stdout",
     "output_type": "stream",
     "text": [
      "Correct no-stop-signal RT were 336 ms, 402 ms, and 446 ms in the 300 ms, 500 ms, and 700 ms deadline conditions,\n",
      "respectively, F(2.0, 94.0) = 185.0, p < 0.001.\n",
      "\u001b[1m********************************************************************************\u001b[0m\n",
      "Go accuracy was 70%, 84%, and 89% in the 300 ms, 500 ms, and 700 ms deadline conditions,\n",
      "respectively, F(2.0, 94.0) = 208.1, p < 0.001.\n"
     ]
    }
   ],
   "source": [
    "deadline_df = mk_anova_df([cond3_df, cond4_df, cond5_df, cond6_df, cond7_df, cond8_df], ['300', '500', '700', '300', '500', '700'])\n",
    "\n",
    "conds345_pivot_df = pd.pivot_table(deadline_df, values=['goRT', 'GoACC', 'stopFailRT'], index=['condition'], aggfunc=np.mean)\n",
    "\n",
    "# RT analysis\n",
    "aovrm_rt = AnovaRM(deadline_df, 'goRT', 'subject', within=['condition'])\n",
    "rt_res = aovrm_rt.fit()\n",
    "\n",
    "print(f'''Correct no-stop-signal RT were {conds345_pivot_df.loc['300', 'goRT']:.0f} ms, {conds345_pivot_df.loc['500', 'goRT']:.0f} ms, and {conds345_pivot_df.loc['700', 'goRT']:.0f} ms in the 300 ms, 500 ms, and 700 ms deadline conditions,\n",
    "respectively, F({rt_res.anova_table['Num DF'][0]}, {rt_res.anova_table['Den DF'][0]}) = {rt_res.anova_table['F Value'][0]:.1f}, {get_p_str(rt_res.anova_table['Pr > F'][0])}.''')\n",
    "\n",
    "# Accuracy analysis\n",
    "aovrm_acc = AnovaRM(deadline_df, 'GoACC', 'subject', within=['condition'])\n",
    "acc_res = aovrm_acc.fit()\n",
    "print(formats.BOLD + '*'*80 + formats.END)\n",
    "print(f'''Go accuracy was {conds345_pivot_df.loc['300', 'GoACC']:.0%}, {conds345_pivot_df.loc['500', 'GoACC']:.0%}, and {conds345_pivot_df.loc['700', 'GoACC']:.0%} in the 300 ms, 500 ms, and 700 ms deadline conditions,\n",
    "respectively, F({acc_res.anova_table['Num DF'][0]}, {acc_res.anova_table['Den DF'][0]}) = {acc_res.anova_table['F Value'][0]:.1f}, {get_p_str(acc_res.anova_table['Pr > F'][0])}.''')\n",
    "\n",
    "# RT by Condition Analysis\n",
    "RT_melt_df = pd.melt(deadline_df, id_vars=['subject', 'condition'], value_vars=['goRT', 'stopFailRT'], var_name='TrialType', value_name='RT')"
   ]
  },
  {
   "cell_type": "code",
   "execution_count": 24,
   "metadata": {},
   "outputs": [],
   "source": [
    "%%R -i RT_melt_df -o tbl #RUN ANOVA\n",
    "\n",
    "aovres <- anova_test(\n",
    "  data = RT_melt_df, dv = RT, wid = subject,\n",
    "    within = c(condition, TrialType),\n",
    "    type=\"3\",\n",
    "  )\n",
    "tbl = get_anova_table(aovres, correction=\"none\")"
   ]
  },
  {
   "cell_type": "code",
   "execution_count": 25,
   "metadata": {},
   "outputs": [
    {
     "name": "stdout",
     "output_type": "stream",
     "text": [
      "First, we tested for context independence with the usual method that included all SSDs and overall no-stop-signal RT.\n",
      "A 2 (Trialtype: No-stop-signal vs. Stop-failure) x 3 (Deadline: 300 ms, 500 ms, and 700 ms) repeated measures ANOVA was run\n",
      "to test whether mean no-stop-signal RT (excluding omissions) differed from mean stop-failure RT,and if so whether this difference interacted with deadline. \n",
      "There was a significant main effect of Trialtype, F(1.0, 47.0) = 42.6, p < 0.001, with stop-failure RT (M = 379ms) faster than no-stop-signal RT (M = 395ms).\n",
      "There was also an interaction, F(2.0, 94.0) = 6.35, p = 0.003, with no-stop-signal RT being increasingly longer than stop-failure RT\n",
      "as the deadline increased from 300 ms (11ms) to 500 ms (16ms) and 700 ms (22ms).\n",
      "\u001b[1m********************************************************************************\u001b[0m\n"
     ]
    },
    {
     "data": {
      "text/html": [
       "<div>\n",
       "<style scoped>\n",
       "    .dataframe tbody tr th:only-of-type {\n",
       "        vertical-align: middle;\n",
       "    }\n",
       "\n",
       "    .dataframe tbody tr th {\n",
       "        vertical-align: top;\n",
       "    }\n",
       "\n",
       "    .dataframe thead th {\n",
       "        text-align: right;\n",
       "    }\n",
       "</style>\n",
       "<table border=\"1\" class=\"dataframe\">\n",
       "  <thead>\n",
       "    <tr style=\"text-align: right;\">\n",
       "      <th></th>\n",
       "      <th>DFn</th>\n",
       "      <th>DFd</th>\n",
       "      <th>F</th>\n",
       "      <th>p</th>\n",
       "      <th>p&lt;.05</th>\n",
       "      <th>ges</th>\n",
       "    </tr>\n",
       "    <tr>\n",
       "      <th>Effect</th>\n",
       "      <th></th>\n",
       "      <th></th>\n",
       "      <th></th>\n",
       "      <th></th>\n",
       "      <th></th>\n",
       "      <th></th>\n",
       "    </tr>\n",
       "  </thead>\n",
       "  <tbody>\n",
       "    <tr>\n",
       "      <th>condition</th>\n",
       "      <td>2.0</td>\n",
       "      <td>94.0</td>\n",
       "      <td>164.714</td>\n",
       "      <td>1.900000e-31</td>\n",
       "      <td>*</td>\n",
       "      <td>0.422</td>\n",
       "    </tr>\n",
       "    <tr>\n",
       "      <th>TrialType</th>\n",
       "      <td>1.0</td>\n",
       "      <td>47.0</td>\n",
       "      <td>42.639</td>\n",
       "      <td>4.230000e-08</td>\n",
       "      <td>*</td>\n",
       "      <td>0.025</td>\n",
       "    </tr>\n",
       "    <tr>\n",
       "      <th>condition:TrialType</th>\n",
       "      <td>2.0</td>\n",
       "      <td>94.0</td>\n",
       "      <td>6.350</td>\n",
       "      <td>3.000000e-03</td>\n",
       "      <td>*</td>\n",
       "      <td>0.002</td>\n",
       "    </tr>\n",
       "  </tbody>\n",
       "</table>\n",
       "</div>"
      ],
      "text/plain": [
       "                     DFn   DFd        F             p p<.05    ges\n",
       "Effect                                                            \n",
       "condition            2.0  94.0  164.714  1.900000e-31     *  0.422\n",
       "TrialType            1.0  47.0   42.639  4.230000e-08     *  0.025\n",
       "condition:TrialType  2.0  94.0    6.350  3.000000e-03     *  0.002"
      ]
     },
     "execution_count": 25,
     "metadata": {},
     "output_type": "execute_result"
    }
   ],
   "source": [
    "tbl = tbl.set_index('Effect')\n",
    "\n",
    "groupCondition_df = deadline_df.groupby('condition').mean()\n",
    "diff_300 = groupCondition_df.loc['300', 'goRT'] - groupCondition_df.loc['300', 'stopFailRT']\n",
    "diff_500 = groupCondition_df.loc['500', 'goRT'] - groupCondition_df.loc['500', 'stopFailRT']\n",
    "diff_700 = groupCondition_df.loc['700', 'goRT'] - groupCondition_df.loc['700', 'stopFailRT']\n",
    "\n",
    "threeByTwoAnova_str = f'''First, we tested for context independence with the usual method that included all SSDs and overall no-stop-signal RT.\n",
    "A 2 (Trialtype: No-stop-signal vs. Stop-failure) x 3 (Deadline: 300 ms, 500 ms, and 700 ms) repeated measures ANOVA was run\n",
    "to test whether mean no-stop-signal RT (excluding omissions) differed from mean stop-failure RT,and if so whether this difference interacted with deadline. \n",
    "There was a significant main effect of Trialtype, F({tbl.loc['TrialType', 'DFn']}, {tbl.loc['TrialType', 'DFd']}) = {tbl.loc['TrialType', 'F']:.1f}, {get_p_str(tbl.loc['TrialType', 'p'])}, with stop-failure RT (M = {deadline_df['stopFailRT'].mean():.0f}ms) faster than no-stop-signal RT (M = {deadline_df['goRT'].mean():.0f}ms).\n",
    "There was also an interaction, F({tbl.loc['condition:TrialType', 'DFn']}, {tbl.loc['condition:TrialType', 'DFd']}) = {tbl.loc['condition:TrialType', 'F']:.2f}, {get_p_str(tbl.loc['condition:TrialType', 'p'])}, with no-stop-signal RT being increasingly longer than stop-failure RT\n",
    "as the deadline increased from 300 ms ({diff_300:.0f}ms) to 500 ms ({diff_500:.0f}ms) and 700 ms ({diff_700:.0f}ms).'''\n",
    "print(threeByTwoAnova_str)\n",
    "print(formats.BOLD + '*'*80 + formats.END)\n",
    "tbl"
   ]
  },
  {
   "cell_type": "markdown",
   "metadata": {},
   "source": [
    "## SSRT x SSD "
   ]
  },
  {
   "cell_type": "code",
   "execution_count": 26,
   "metadata": {},
   "outputs": [
    {
     "name": "stdout",
     "output_type": "stream",
     "text": [
      "\u001b[1m1 300\u001b[0m\n",
      "16 subject(s) excluded from 1 300\n",
      "Overall SSRT (M = 275 ms) was significantly slower than SSRT with short SSDs excluded (M = 218 ms),\n",
      "t(7) = 3.65, p = 0.01\n",
      "\u001b[1m********************************************************************************\u001b[0m\n",
      "\u001b[1m1 500\u001b[0m\n",
      "3 subject(s) excluded from 1 500\n",
      "Overall SSRT (M = 271 ms) was significantly slower than SSRT with short SSDs excluded (M = 220 ms),\n",
      "t(20) = 5.56, p < 0.001\n",
      "\u001b[1m********************************************************************************\u001b[0m\n",
      "\u001b[1m1 700\u001b[0m\n",
      "1 subject(s) excluded from 1 700\n",
      "Overall SSRT (M = 255 ms) was significantly slower than SSRT with short SSDs excluded (M = 216 ms),\n",
      "t(22) = 4.18, p < 0.001\n",
      "\u001b[1m********************************************************************************\u001b[0m\n",
      "\u001b[1m2 300\u001b[0m\n",
      "12 subject(s) excluded from 2 300\n",
      "Overall SSRT (M = 308 ms) was significantly slower than SSRT with short SSDs excluded (M = 176 ms),\n",
      "t(11) = 5.12, p < 0.001\n",
      "\u001b[1m********************************************************************************\u001b[0m\n",
      "\u001b[1m2 500\u001b[0m\n",
      "4 subject(s) excluded from 2 500\n",
      "Overall SSRT (M = 272 ms) was significantly slower than SSRT with short SSDs excluded (M = 219 ms),\n",
      "t(19) = 5.39, p < 0.001\n",
      "\u001b[1m********************************************************************************\u001b[0m\n",
      "\u001b[1m2 700\u001b[0m\n",
      "2 subject(s) excluded from 2 700\n",
      "Overall SSRT (M = 265 ms) was significantly slower than SSRT with short SSDs excluded (M = 228 ms),\n",
      "t(21) = 5.07, p < 0.001\n",
      "\u001b[1m********************************************************************************\u001b[0m\n"
     ]
    }
   ],
   "source": [
    "ssrt_comparison([cond3_df, cond4_df, cond5_df, cond6_df, cond7_df, cond8_df],  ['1 300', '1 500', '1 700', '2 300', '2 500', '2 700'])"
   ]
  },
  {
   "cell_type": "code",
   "execution_count": 27,
   "metadata": {},
   "outputs": [],
   "source": [
    "del cond3_df\n",
    "del cond4_df\n",
    "del cond5_df\n",
    "del cond6_df\n",
    "del cond7_df\n",
    "del cond8_df"
   ]
  },
  {
   "cell_type": "markdown",
   "metadata": {},
   "source": [
    "# __In-Lab Low versus High Stop Probability (Conditions 9-10)__"
   ]
  },
  {
   "cell_type": "code",
   "execution_count": 28,
   "metadata": {},
   "outputs": [],
   "source": [
    "cond9_df = read_cond_file('Data/DataStopProbabilityLow.xlsx')\n",
    "cond10_df = read_cond_file('Data/DataStopProbabilityHigh.xlsx')\n",
    "\n",
    "stopProb_df = mk_anova_df([cond9_df, cond10_df], ['low', 'high'])\n",
    "\n",
    "# RT by probability Analysis\n",
    "RTStopProb_melt_df = pd.melt(stopProb_df, id_vars=['subject', 'condition'], value_vars=['goRT', 'stopFailRT'], var_name='TrialType', value_name='RT')"
   ]
  },
  {
   "cell_type": "code",
   "execution_count": 29,
   "metadata": {},
   "outputs": [],
   "source": [
    "%%R -i RTStopProb_melt_df -o tbl #RUN ANOVA\n",
    "\n",
    "aovres <- anova_test(\n",
    "  data = RTStopProb_melt_df, dv = RT, wid = subject,\n",
    "    within = c(condition, TrialType),\n",
    "    type=\"3\",\n",
    "  )\n",
    "tbl = get_anova_table(aovres, correction=\"none\")"
   ]
  },
  {
   "cell_type": "code",
   "execution_count": 30,
   "metadata": {},
   "outputs": [
    {
     "name": "stdout",
     "output_type": "stream",
     "text": [
      "Averaging across all SSDs, a 2 (Trialtype: No-stop-signal vs. Stop-failure) x 2 (Stop Probability: .2 vs .4) repeated-measures ANOVA was run.\n",
      "There was a significant main effect of Trialtype, F(1.0, 23.0) = 49.8,  p < 0.001, \n",
      "with mean stop-failure RT faster (M = 452ms) than mean no-stop-signal RT (M = 485ms), \n",
      "and a main effect of Condition, F(1.0, 23.0) = 7.5, p = 0.01, with mean low-stop-probability RT faster (M = 458ms) than mean high-stop-probability RT (M = 513ms).\n",
      "There was also a significant interaction, F(1.0, 23.0) = 28.6, p < 0.001, \n",
      "with the difference between Trialtype larger in the 40% stop signal condition (M = 47ms) than in the 20% condition (M = 20ms).\n",
      "\u001b[1m********************************************************************************\u001b[0m\n"
     ]
    },
    {
     "data": {
      "text/html": [
       "<div>\n",
       "<style scoped>\n",
       "    .dataframe tbody tr th:only-of-type {\n",
       "        vertical-align: middle;\n",
       "    }\n",
       "\n",
       "    .dataframe tbody tr th {\n",
       "        vertical-align: top;\n",
       "    }\n",
       "\n",
       "    .dataframe thead th {\n",
       "        text-align: right;\n",
       "    }\n",
       "</style>\n",
       "<table border=\"1\" class=\"dataframe\">\n",
       "  <thead>\n",
       "    <tr style=\"text-align: right;\">\n",
       "      <th></th>\n",
       "      <th>DFn</th>\n",
       "      <th>DFd</th>\n",
       "      <th>F</th>\n",
       "      <th>p</th>\n",
       "      <th>p&lt;.05</th>\n",
       "      <th>ges</th>\n",
       "    </tr>\n",
       "    <tr>\n",
       "      <th>Effect</th>\n",
       "      <th></th>\n",
       "      <th></th>\n",
       "      <th></th>\n",
       "      <th></th>\n",
       "      <th></th>\n",
       "      <th></th>\n",
       "    </tr>\n",
       "  </thead>\n",
       "  <tbody>\n",
       "    <tr>\n",
       "      <th>condition</th>\n",
       "      <td>1.0</td>\n",
       "      <td>23.0</td>\n",
       "      <td>7.510</td>\n",
       "      <td>1.200000e-02</td>\n",
       "      <td>*</td>\n",
       "      <td>0.048</td>\n",
       "    </tr>\n",
       "    <tr>\n",
       "      <th>TrialType</th>\n",
       "      <td>1.0</td>\n",
       "      <td>23.0</td>\n",
       "      <td>49.848</td>\n",
       "      <td>3.410000e-07</td>\n",
       "      <td>*</td>\n",
       "      <td>0.031</td>\n",
       "    </tr>\n",
       "    <tr>\n",
       "      <th>condition:TrialType</th>\n",
       "      <td>1.0</td>\n",
       "      <td>23.0</td>\n",
       "      <td>28.573</td>\n",
       "      <td>1.990000e-05</td>\n",
       "      <td>*</td>\n",
       "      <td>0.005</td>\n",
       "    </tr>\n",
       "  </tbody>\n",
       "</table>\n",
       "</div>"
      ],
      "text/plain": [
       "                     DFn   DFd       F             p p<.05    ges\n",
       "Effect                                                           \n",
       "condition            1.0  23.0   7.510  1.200000e-02     *  0.048\n",
       "TrialType            1.0  23.0  49.848  3.410000e-07     *  0.031\n",
       "condition:TrialType  1.0  23.0  28.573  1.990000e-05     *  0.005"
      ]
     },
     "execution_count": 30,
     "metadata": {},
     "output_type": "execute_result"
    }
   ],
   "source": [
    "tbl = tbl.set_index('Effect')\n",
    "groupProb_df = stopProb_df.groupby('condition').mean()\n",
    "diff_low = groupProb_df.loc['low', 'goRT'] - groupProb_df.loc['low', 'stopFailRT']\n",
    "diff_high = groupProb_df.loc['high', 'goRT'] - groupProb_df.loc['high', 'stopFailRT']\n",
    "\n",
    "condition_mean_df = stopProb_df.groupby('condition').mean()\n",
    "highLow_df = condition_mean_df.loc[:,['goRT', 'corrGoRT']].mean(1)\n",
    "\n",
    "rt_by_prob_str = f'''Averaging across all SSDs, a 2 (Trialtype: No-stop-signal vs. Stop-failure) x 2 (Stop Probability: .2 vs .4) repeated-measures ANOVA was run.\n",
    "There was a significant main effect of Trialtype, F({tbl.loc['TrialType', 'DFn']}, {tbl.loc['TrialType', 'DFd']}) = {tbl.loc['TrialType', 'F']:.1f},  {get_p_str(tbl.loc['TrialType', 'p'])}, \n",
    "with mean stop-failure RT faster (M = {stopProb_df['stopFailRT'].mean():.0f}ms) than mean no-stop-signal RT (M = {stopProb_df['goRT'].mean():.0f}ms), \n",
    "and a main effect of Condition, F({tbl.loc['condition', 'DFn']}, {tbl.loc['condition', 'DFd']}) = {tbl.loc['condition', 'F']:.1f}, {get_p_str(tbl.loc['condition', 'p'])}, with mean low-stop-probability RT faster (M = {highLow_df['low']:.0f}ms) than mean high-stop-probability RT (M = {highLow_df['high']:.0f}ms).\n",
    "There was also a significant interaction, F({tbl.loc['condition:TrialType', 'DFn']}, {tbl.loc['condition:TrialType', 'DFd']}) = {tbl.loc['condition:TrialType', 'F']:.1f}, {get_p_str(tbl.loc['condition:TrialType', 'p'])}, \n",
    "with the difference between Trialtype larger in the 40% stop signal condition (M = {diff_high:.0f}ms) than in the 20% condition (M = {diff_low:.0f}ms).'''\n",
    "\n",
    "print(rt_by_prob_str)\n",
    "print(formats.BOLD + '*'*80 + formats.END)\n",
    "tbl"
   ]
  },
  {
   "cell_type": "code",
   "execution_count": 31,
   "metadata": {},
   "outputs": [
    {
     "name": "stdout",
     "output_type": "stream",
     "text": [
      "\u001b[1mlow\u001b[0m\n",
      "0 subject(s) excluded from low\n",
      "Overall SSRT (M = 232 ms) was significantly slower than SSRT with short SSDs excluded (M = 209 ms),\n",
      "t(23) = 4.54, p < 0.001\n",
      "\u001b[1m********************************************************************************\u001b[0m\n",
      "\u001b[1mhigh\u001b[0m\n",
      "0 subject(s) excluded from high\n",
      "Overall SSRT (M = 210 ms) was significantly slower than SSRT with short SSDs excluded (M = 189 ms),\n",
      "t(23) = 2.52, p = 0.02\n",
      "\u001b[1m********************************************************************************\u001b[0m\n"
     ]
    }
   ],
   "source": [
    "ssrt_comparison([cond9_df, cond10_df],  ['low', 'high'])"
   ]
  },
  {
   "cell_type": "markdown",
   "metadata": {},
   "source": [
    "# Online Low versus High Stop Probability (Conditions 11-12)"
   ]
  },
  {
   "cell_type": "code",
   "execution_count": 32,
   "metadata": {},
   "outputs": [],
   "source": [
    "cond11_df = read_cond_file('Data/DataTurkSimpleLow.xlsx')\n",
    "cond12_df = read_cond_file('Data/DataTurkSimpleHigh.xlsx')"
   ]
  },
  {
   "cell_type": "code",
   "execution_count": 33,
   "metadata": {},
   "outputs": [
    {
     "name": "stdout",
     "output_type": "stream",
     "text": [
      "Correct no-stop-signal RT were faster in the 20% stop signals condition (M = 571ms)\n",
      "than they were in the 40% stop signals condition (M = 606ms), t(338) = 13.5, p < 0.001.\n",
      "Go accuracy did not differ between conditions (M 20% = 94.8%, M 40% = 94.5%), t(338) = 1.2, p = 0.22\n",
      "\u001b[1m********************************************************************************\u001b[0m\n"
     ]
    }
   ],
   "source": [
    "turkProb_df = mk_anova_df([cond11_df, cond12_df], ['low', 'high'])\n",
    "\n",
    "\n",
    "lowCorrRTs = turkProb_df.loc[turkProb_df['condition']=='low', 'corrGoRT']\n",
    "highCorrRTs = turkProb_df.loc[turkProb_df['condition']=='high', 'corrGoRT']\n",
    "\n",
    "lowACCs = turkProb_df.loc[turkProb_df['condition']=='low', 'GoACC']\n",
    "highACCs = turkProb_df.loc[turkProb_df['condition']=='high', 'GoACC']\n",
    "\n",
    "t_corrRT, p_corrRT = stats.ttest_1samp(np.asarray(highCorrRTs)-np.asarray(lowCorrRTs), 0)\n",
    "t_acc, p_acc = stats.ttest_1samp(np.asarray(lowACCs)-np.asarray(highACCs), 0)\n",
    "\n",
    "ttest_str=f'''Correct no-stop-signal RT were faster in the 20% stop signals condition (M = {lowCorrRTs.mean():.0f}ms)\n",
    "than they were in the 40% stop signals condition (M = {highCorrRTs.mean():.0f}ms), t({len(lowCorrRTs)-1}) = {t_corrRT:.1f}, {get_p_str(p_corrRT)}.\n",
    "Go accuracy did not differ between conditions (M 20% = {lowACCs.mean():.1%}, M 40% = {highACCs.mean():.1%}), t({len(lowACCs)-1}) = {t_acc:.1f}, {get_p_str(p_acc)}'''\n",
    "\n",
    "print(ttest_str)\n",
    "print(formats.BOLD+'*'*80+formats.END)\n",
    "\n",
    "\n",
    "# RT by probability Analysis\n",
    "RTonlineStopProb_melt_df = pd.melt(turkProb_df, id_vars=['subject', 'condition'], value_vars=['goRT', 'stopFailRT'], var_name='TrialType', value_name='RT')"
   ]
  },
  {
   "cell_type": "code",
   "execution_count": 34,
   "metadata": {},
   "outputs": [],
   "source": [
    "%%R -i RTonlineStopProb_melt_df -o tbl #RUN ANOVA\n",
    "\n",
    "aovres <- anova_test(\n",
    "  data = RTonlineStopProb_melt_df, dv = RT, wid = subject,\n",
    "    within = c(condition, TrialType),\n",
    "    type=\"3\",\n",
    "  )\n",
    "tbl = get_anova_table(aovres, correction=\"none\")"
   ]
  },
  {
   "cell_type": "code",
   "execution_count": 35,
   "metadata": {},
   "outputs": [
    {
     "name": "stdout",
     "output_type": "stream",
     "text": [
      "...we ran a 2 (Trialtype: No-Stop-Signal vs. Stop-failure) x 2 (Stop Probabiity: .2 vs. .4) repeated-measures ANOVA on RT across all SSDs.\n",
      "There was a significant main effect of Trialtype, F(1, 338) = 656.9,  p < 0.001, as stop-failure RT faster (M = 550ms) \n",
      "than no-stop-signal RT (M = 588ms). The interaction was also significant, F(1, 338) = 50.8, p < 0.001, \n",
      "because this preceding difference was larger in the 40% condition (M = 44ms) than in the 20% condition (M = 33ms).\n",
      "\u001b[1m********************************************************************************\u001b[0m\n"
     ]
    },
    {
     "data": {
      "text/html": [
       "<div>\n",
       "<style scoped>\n",
       "    .dataframe tbody tr th:only-of-type {\n",
       "        vertical-align: middle;\n",
       "    }\n",
       "\n",
       "    .dataframe tbody tr th {\n",
       "        vertical-align: top;\n",
       "    }\n",
       "\n",
       "    .dataframe thead th {\n",
       "        text-align: right;\n",
       "    }\n",
       "</style>\n",
       "<table border=\"1\" class=\"dataframe\">\n",
       "  <thead>\n",
       "    <tr style=\"text-align: right;\">\n",
       "      <th></th>\n",
       "      <th>DFn</th>\n",
       "      <th>DFd</th>\n",
       "      <th>F</th>\n",
       "      <th>p</th>\n",
       "      <th>p&lt;.05</th>\n",
       "      <th>ges</th>\n",
       "    </tr>\n",
       "    <tr>\n",
       "      <th>Effect</th>\n",
       "      <th></th>\n",
       "      <th></th>\n",
       "      <th></th>\n",
       "      <th></th>\n",
       "      <th></th>\n",
       "      <th></th>\n",
       "    </tr>\n",
       "  </thead>\n",
       "  <tbody>\n",
       "    <tr>\n",
       "      <th>condition</th>\n",
       "      <td>1.0</td>\n",
       "      <td>338.0</td>\n",
       "      <td>151.960</td>\n",
       "      <td>4.350000e-29</td>\n",
       "      <td>*</td>\n",
       "      <td>0.042</td>\n",
       "    </tr>\n",
       "    <tr>\n",
       "      <th>TrialType</th>\n",
       "      <td>1.0</td>\n",
       "      <td>338.0</td>\n",
       "      <td>656.925</td>\n",
       "      <td>3.070000e-81</td>\n",
       "      <td>*</td>\n",
       "      <td>0.067</td>\n",
       "    </tr>\n",
       "    <tr>\n",
       "      <th>condition:TrialType</th>\n",
       "      <td>1.0</td>\n",
       "      <td>338.0</td>\n",
       "      <td>50.849</td>\n",
       "      <td>6.090000e-12</td>\n",
       "      <td>*</td>\n",
       "      <td>0.001</td>\n",
       "    </tr>\n",
       "  </tbody>\n",
       "</table>\n",
       "</div>"
      ],
      "text/plain": [
       "                     DFn    DFd        F             p p<.05    ges\n",
       "Effect                                                             \n",
       "condition            1.0  338.0  151.960  4.350000e-29     *  0.042\n",
       "TrialType            1.0  338.0  656.925  3.070000e-81     *  0.067\n",
       "condition:TrialType  1.0  338.0   50.849  6.090000e-12     *  0.001"
      ]
     },
     "execution_count": 35,
     "metadata": {},
     "output_type": "execute_result"
    }
   ],
   "source": [
    "tbl = tbl.set_index('Effect')\n",
    "\n",
    "groupProb_df = turkProb_df.groupby('condition').mean()\n",
    "diff_low = groupProb_df.loc['low', 'goRT'] - groupProb_df.loc['low', 'stopFailRT']\n",
    "diff_high = groupProb_df.loc['high', 'goRT'] - groupProb_df.loc['high', 'stopFailRT']\n",
    "\n",
    "rt_by_prob_str = f'''...we ran a 2 (Trialtype: No-Stop-Signal vs. Stop-failure) x 2 (Stop Probabiity: .2 vs. .4) repeated-measures ANOVA on RT across all SSDs.\n",
    "There was a significant main effect of Trialtype, F({tbl.loc['TrialType', 'DFn']:.0f}, {tbl.loc['TrialType', 'DFd']:.0f}) = {tbl.loc['TrialType', 'F']:.1f},  {get_p_str(tbl.loc['TrialType', 'p'])}, as stop-failure RT faster (M = {turkProb_df['stopFailRT'].mean():.0f}ms) \n",
    "than no-stop-signal RT (M = {turkProb_df['goRT'].mean():.0f}ms). The interaction was also significant, F({tbl.loc['condition:TrialType', 'DFn']:.0f}, {tbl.loc['condition:TrialType', 'DFd']:.0f}) = {tbl.loc['condition:TrialType', 'F']:.1f}, {get_p_str(tbl.loc['condition:TrialType', 'p'])}, \n",
    "because this preceding difference was larger in the 40% condition (M = {diff_high:.0f}ms) than in the 20% condition (M = {diff_low:.0f}ms).'''\n",
    "\n",
    "print(rt_by_prob_str)\n",
    "print(formats.BOLD + '*'*80 + formats.END)\n",
    "tbl"
   ]
  },
  {
   "cell_type": "markdown",
   "metadata": {},
   "source": [
    "## SSRT x SSDs x mean SSD comparison"
   ]
  },
  {
   "cell_type": "code",
   "execution_count": 36,
   "metadata": {},
   "outputs": [
    {
     "name": "stdout",
     "output_type": "stream",
     "text": [
      "136 subjects kept in the short SSD condition\n",
      "88 subjects kept in the long SSD condition\n"
     ]
    }
   ],
   "source": [
    "# Collect SSRTs and SSDs for each subject\n",
    "SSRTs_low = []\n",
    "SSDs_low = []\n",
    "for subject in full_passed_turkers:\n",
    "    subj_df = cond11_df.query('Subject == %d' % subject).copy()\n",
    "    SSRT, mean_SSD = calc_SSRT(subj_df, method='omission')\n",
    "    SSRTs_low.append(SSRT)\n",
    "    SSDs_low.append(mean_SSD)\n",
    "    \n",
    "SSRTs_high = []\n",
    "SSDs_high = []\n",
    "for subject in full_passed_turkers:\n",
    "    subj_df = cond12_df.query('Subject == %d' % subject).copy()\n",
    "    SSRT, mean_SSD = calc_SSRT(subj_df,  method='omission')\n",
    "    SSRTs_high.append(SSRT)\n",
    "    SSDs_high.append(mean_SSD)\n",
    "    \n",
    "# build up dataframe for figure 3b\n",
    "fig3b_df = pd.DataFrame({'SSRTHigh': SSRTs_high, 'SSRTLow': SSRTs_low}, index=full_passed_turkers)\n",
    "\n",
    "above_subjects = np.asarray(full_passed_turkers)[(np.asarray(SSDs_low) > 300) & (np.asarray(SSDs_high) > 300)]\n",
    "below_subjects = np.asarray(full_passed_turkers)[(np.asarray(SSDs_low) < 300) & (np.asarray(SSDs_high) < 300)]\n",
    "\n",
    "\n",
    "fig3b_df['MeanSSDBelowOrAbove300'] = np.nan\n",
    "fig3b_df.loc[above_subjects, 'MeanSSDBelowOrAbove300'] = 'Above'\n",
    "fig3b_df.loc[below_subjects, 'MeanSSDBelowOrAbove300'] = 'Below'\n",
    "fig3b_df['subject'] = full_passed_turkers\n",
    "\n",
    "print(f'{len(below_subjects)} subjects kept in the short SSD condition')\n",
    "print(f'{len(above_subjects)} subjects kept in the long SSD condition')\n",
    "\n",
    "fig3b_df = fig3b_df.dropna()\n",
    "fig3b_df = fig3b_df.sort_values(by=['MeanSSDBelowOrAbove300'],  ascending=False)"
   ]
  },
  {
   "cell_type": "code",
   "execution_count": 37,
   "metadata": {},
   "outputs": [],
   "source": [
    "data_3b_tidy = fig3b_df.melt(id_vars=['subject', 'MeanSSDBelowOrAbove300'],\n",
    "                            value_vars=['SSRTLow','SSRTHigh'],\n",
    "                            var_name='percentStopSignals', \n",
    "                            value_name='SSRT_ms')\n",
    "data_3b_tidy = data_3b_tidy.replace({'SSRTLow':'20%',\n",
    "                                     'SSRTHigh':'40%',\n",
    "                                    'Below':'Mean SSD < 300 ms',\n",
    "                                    'Above':'Mean SSD > 300 ms'})\n",
    "\n",
    "#get simple effects\n",
    "shortSSD_df = fig3b_df.loc[fig3b_df.MeanSSDBelowOrAbove300=='Below']\n",
    "longSSD_df = fig3b_df.loc[fig3b_df.MeanSSDBelowOrAbove300=='Above']\n",
    "\n",
    "# Save fig3b_df for JASP\n",
    "del fig3b_df['subject']\n",
    "fig3b_df.to_csv(path.join(F2_INPUT_DIR, 'fig3bInput.csv'), index=False)"
   ]
  },
  {
   "cell_type": "code",
   "execution_count": 38,
   "metadata": {},
   "outputs": [],
   "source": [
    "%%R -i data_3b_tidy -o tbl #RUN ANOVA - this is equivalent to JASP\n",
    "\n",
    "aovres <- anova_test(\n",
    "  data = data_3b_tidy, dv = SSRT_ms, wid = subject,\n",
    "    within = percentStopSignals,\n",
    "    between = MeanSSDBelowOrAbove300,\n",
    "    type=\"3\",\n",
    "  )\n",
    "tbl = get_anova_table(aovres, correction=\"none\")"
   ]
  },
  {
   "cell_type": "code",
   "execution_count": 39,
   "metadata": {},
   "outputs": [
    {
     "name": "stdout",
     "output_type": "stream",
     "text": [
      "The results showed a significant main effect of mean SSD, F(1, 222) = 41.7, p < 0.001, η2 = 0.133,\n",
      "a significant main effect of probability, F(1, 222) = 28.0, p < 0.001, η2 = 0.017,\n",
      "and a significant interaction, F1, 222) = 13.7, p < 0.001, η2 = 0.008.\n",
      "Simple effects analysis showed that this interaction was driven by an SSRT difference between stop probabilities\n",
      "only in subjects with shorter SSDs (M SSRT 40% = 281ms, M SSRT 20% = 305ms, p < 0.001)\n",
      "and not in subjects with longer SSDs (M SSRT 40% = 251ms, M SSRT 20% = 255ms, p = 0.24), see Figure 3b. \n",
      "\n",
      "\u001b[1m********************************************************************************\u001b[0m\n"
     ]
    },
    {
     "data": {
      "text/html": [
       "<div>\n",
       "<style scoped>\n",
       "    .dataframe tbody tr th:only-of-type {\n",
       "        vertical-align: middle;\n",
       "    }\n",
       "\n",
       "    .dataframe tbody tr th {\n",
       "        vertical-align: top;\n",
       "    }\n",
       "\n",
       "    .dataframe thead th {\n",
       "        text-align: right;\n",
       "    }\n",
       "</style>\n",
       "<table border=\"1\" class=\"dataframe\">\n",
       "  <thead>\n",
       "    <tr style=\"text-align: right;\">\n",
       "      <th></th>\n",
       "      <th>DFn</th>\n",
       "      <th>DFd</th>\n",
       "      <th>F</th>\n",
       "      <th>p</th>\n",
       "      <th>p&lt;.05</th>\n",
       "      <th>ges</th>\n",
       "    </tr>\n",
       "    <tr>\n",
       "      <th>Effect</th>\n",
       "      <th></th>\n",
       "      <th></th>\n",
       "      <th></th>\n",
       "      <th></th>\n",
       "      <th></th>\n",
       "      <th></th>\n",
       "    </tr>\n",
       "  </thead>\n",
       "  <tbody>\n",
       "    <tr>\n",
       "      <th>MeanSSDBelowOrAbove300</th>\n",
       "      <td>1.0</td>\n",
       "      <td>222.0</td>\n",
       "      <td>41.663</td>\n",
       "      <td>6.730000e-10</td>\n",
       "      <td>*</td>\n",
       "      <td>0.136</td>\n",
       "    </tr>\n",
       "    <tr>\n",
       "      <th>percentStopSignals</th>\n",
       "      <td>1.0</td>\n",
       "      <td>222.0</td>\n",
       "      <td>28.042</td>\n",
       "      <td>2.850000e-07</td>\n",
       "      <td>*</td>\n",
       "      <td>0.020</td>\n",
       "    </tr>\n",
       "    <tr>\n",
       "      <th>MeanSSDBelowOrAbove300:percentStopSignals</th>\n",
       "      <td>1.0</td>\n",
       "      <td>222.0</td>\n",
       "      <td>13.675</td>\n",
       "      <td>2.740000e-04</td>\n",
       "      <td>*</td>\n",
       "      <td>0.010</td>\n",
       "    </tr>\n",
       "  </tbody>\n",
       "</table>\n",
       "</div>"
      ],
      "text/plain": [
       "                                           DFn    DFd       F             p  \\\n",
       "Effect                                                                        \n",
       "MeanSSDBelowOrAbove300                     1.0  222.0  41.663  6.730000e-10   \n",
       "percentStopSignals                         1.0  222.0  28.042  2.850000e-07   \n",
       "MeanSSDBelowOrAbove300:percentStopSignals  1.0  222.0  13.675  2.740000e-04   \n",
       "\n",
       "                                          p<.05    ges  \n",
       "Effect                                                  \n",
       "MeanSSDBelowOrAbove300                        *  0.136  \n",
       "percentStopSignals                            *  0.020  \n",
       "MeanSSDBelowOrAbove300:percentStopSignals     *  0.010  "
      ]
     },
     "execution_count": 39,
     "metadata": {},
     "output_type": "execute_result"
    }
   ],
   "source": [
    "tbl = tbl.set_index('Effect')\n",
    "\n",
    "# η2 values retrieved from Fig3Jasp/fig3bOutput.jasp\n",
    "meanSSD_eta = 0.133\n",
    "stopProb_eta = 0.017\n",
    "interaction_eta = 0.008\n",
    "simple_short_p = 0.0009 #JASP returns p < .001\n",
    "simple_long_p = .241\n",
    "\n",
    "#display results\n",
    "first_conclusion_change_str = f'''The results showed a significant main effect of mean SSD, F({tbl.loc['MeanSSDBelowOrAbove300', 'DFn']:.0f}, {tbl.loc['MeanSSDBelowOrAbove300', 'DFd']:.0f}) = {tbl.loc['MeanSSDBelowOrAbove300', 'F']:.1f}, {get_p_str(tbl.loc['MeanSSDBelowOrAbove300', 'p'])}, η2 = {meanSSD_eta:.3f},\n",
    "a significant main effect of probability, F({tbl.loc['percentStopSignals', 'DFn']:.0f}, {tbl.loc['percentStopSignals', 'DFd']:.0f}) = {tbl.loc['percentStopSignals', 'F']:.1f}, {get_p_str(tbl.loc['percentStopSignals', 'p'])}, η2 = {stopProb_eta:.3f},\n",
    "and a significant interaction, F{tbl.loc['MeanSSDBelowOrAbove300:percentStopSignals', 'DFn']:.0f}, {tbl.loc['MeanSSDBelowOrAbove300:percentStopSignals', 'DFd']:.0f}) = {tbl.loc['MeanSSDBelowOrAbove300:percentStopSignals', 'F']:.1f}, {get_p_str(tbl.loc['MeanSSDBelowOrAbove300:percentStopSignals', 'p'])}, η2 = {interaction_eta:.3f}.\n",
    "Simple effects analysis showed that this interaction was driven by an SSRT difference between stop probabilities\n",
    "only in subjects with shorter SSDs (M SSRT 40% = {shortSSD_df.SSRTHigh.mean():.0f}ms, M SSRT 20% = {shortSSD_df.SSRTLow.mean():.0f}ms, {get_p_str(simple_short_p)})\n",
    "and not in subjects with longer SSDs (M SSRT 40% = {longSSD_df.SSRTHigh.mean():.0f}ms, M SSRT 20% = {longSSD_df.SSRTLow.mean():.0f}ms, {get_p_str(simple_long_p)}), see Figure 3b. \n",
    "'''\n",
    "\n",
    "print(first_conclusion_change_str)\n",
    "print(formats.BOLD + '*'*80 + formats.END)\n",
    "tbl"
   ]
  },
  {
   "cell_type": "code",
   "execution_count": 40,
   "metadata": {},
   "outputs": [
    {
     "data": {
      "image/png": "[encoded data removed]",
      "text/plain": [
       "<Figure size 432x288 with 1 Axes>"
      ]
     },
     "metadata": {},
     "output_type": "display_data"
    }
   ],
   "source": [
    "#plot 3b to aid visualization\n",
    "sns.set_style('white')\n",
    "\n",
    "sns.pointplot(x='MeanSSDBelowOrAbove300',\n",
    "                  y='SSRT_ms',\n",
    "                  hue='percentStopSignals',\n",
    "                  data=data_3b_tidy,\n",
    "                  dodge=True)\n",
    "\n",
    "plt.xlabel('')\n",
    "plt.ylabel('SSRT (ms) +/- 95% CI',fontsize=18)\n",
    "plt.show()\n",
    "_ = plt.close()"
   ]
  },
  {
   "cell_type": "markdown",
   "metadata": {},
   "source": [
    "### SSRT x SSD"
   ]
  },
  {
   "cell_type": "code",
   "execution_count": 41,
   "metadata": {},
   "outputs": [
    {
     "name": "stdout",
     "output_type": "stream",
     "text": [
      "\u001b[1mLow\u001b[0m\n",
      "1 subject(s) excluded from Low\n",
      "Overall SSRT (M = 284 ms) was significantly slower than SSRT with short SSDs excluded (M = 275 ms),\n",
      "t(337) = 8.45, p < 0.001\n",
      "\u001b[1m********************************************************************************\u001b[0m\n",
      "\u001b[1mHigh\u001b[0m\n",
      "2 subject(s) excluded from High\n",
      "Overall SSRT (M = 260 ms) was significantly slower than SSRT with short SSDs excluded (M = 252 ms),\n",
      "t(336) = 6.10, p < 0.001\n",
      "\u001b[1m********************************************************************************\u001b[0m\n"
     ]
    }
   ],
   "source": [
    "ssrt_comparison([cond11_df, cond12_df], ['Low', 'High'])"
   ]
  },
  {
   "cell_type": "markdown",
   "metadata": {},
   "source": [
    "# Saccadic versus Manual Responses (Conditions 15 and 9)\n"
   ]
  },
  {
   "cell_type": "code",
   "execution_count": 42,
   "metadata": {},
   "outputs": [],
   "source": [
    "cond15_df = read_cond_file('Data/DataSaccades.xlsx')\n",
    "# shifting subject IDs to prevent confusion in following analyses\n",
    "cond15_df.Subject += cond9_df.Subject.max()"
   ]
  },
  {
   "cell_type": "code",
   "execution_count": 43,
   "metadata": {},
   "outputs": [
    {
     "name": "stdout",
     "output_type": "stream",
     "text": [
      "Saccadic go accuracy = 99%\n"
     ]
    }
   ],
   "source": [
    "effector_df = mk_anova_df([cond9_df, cond15_df], ['hand', 'eyes'])\n",
    "\n",
    "saccade_ACC = effector_df.loc[effector_df.condition=='eyes', 'GoACC'].mean()\n",
    "print(f'Saccadic go accuracy = {np.mean(saccade_ACC):.0%}')\n",
    "\n",
    "\n",
    "# RT by probability Analysis\n",
    "RTManSacc_melt_df = pd.melt(effector_df, id_vars=['subject', 'condition'], value_vars=['goRT', 'stopFailRT'], var_name='TrialType', value_name='RT')"
   ]
  },
  {
   "cell_type": "code",
   "execution_count": 44,
   "metadata": {},
   "outputs": [],
   "source": [
    "%%R -i RTManSacc_melt_df -o tbl #RUN ANOVA\n",
    "\n",
    "aovres <- anova_test(\n",
    "  data = RTManSacc_melt_df, dv = RT, wid = subject,\n",
    "    within = TrialType,\n",
    "    between = condition,\n",
    "    type=\"3\",\n",
    "  )\n",
    "tbl = get_anova_table(aovres, correction=\"none\")"
   ]
  },
  {
   "cell_type": "code",
   "execution_count": 45,
   "metadata": {},
   "outputs": [
    {
     "name": "stdout",
     "output_type": "stream",
     "text": [
      "A 2 (Trialtype: No-stop-signal vs. Stop-failure) x 2 (Effector: Hands vs. Eyes) mixed ANOVA on RT showed a main effect of manual versus saccades,\n",
      "F(1, 33) = 107.1,  p < 0.001, with manual responses (M = 448ms) slower than saccades (M = 211ms). \n",
      "There was also a main effect of no-stop-signal versus stop-failure, F(1, 33) = 25.3,  p < 0.001,\n",
      "with no-stop-signal RT (M = 383 ms) slower than stop-failure RT (M = 364ms), as expected with the race model. \n",
      "The interaction was not significant, F(1, 33) = 0.001, p = 0.97.\n",
      "\u001b[1m********************************************************************************\u001b[0m\n"
     ]
    },
    {
     "data": {
      "text/html": [
       "<div>\n",
       "<style scoped>\n",
       "    .dataframe tbody tr th:only-of-type {\n",
       "        vertical-align: middle;\n",
       "    }\n",
       "\n",
       "    .dataframe tbody tr th {\n",
       "        vertical-align: top;\n",
       "    }\n",
       "\n",
       "    .dataframe thead th {\n",
       "        text-align: right;\n",
       "    }\n",
       "</style>\n",
       "<table border=\"1\" class=\"dataframe\">\n",
       "  <thead>\n",
       "    <tr style=\"text-align: right;\">\n",
       "      <th></th>\n",
       "      <th>DFn</th>\n",
       "      <th>DFd</th>\n",
       "      <th>F</th>\n",
       "      <th>p</th>\n",
       "      <th>p&lt;.05</th>\n",
       "      <th>ges</th>\n",
       "    </tr>\n",
       "    <tr>\n",
       "      <th>Effect</th>\n",
       "      <th></th>\n",
       "      <th></th>\n",
       "      <th></th>\n",
       "      <th></th>\n",
       "      <th></th>\n",
       "      <th></th>\n",
       "    </tr>\n",
       "  </thead>\n",
       "  <tbody>\n",
       "    <tr>\n",
       "      <th>condition</th>\n",
       "      <td>1.0</td>\n",
       "      <td>33.0</td>\n",
       "      <td>107.143</td>\n",
       "      <td>6.780000e-12</td>\n",
       "      <td>*</td>\n",
       "      <td>0.759000</td>\n",
       "    </tr>\n",
       "    <tr>\n",
       "      <th>TrialType</th>\n",
       "      <td>1.0</td>\n",
       "      <td>33.0</td>\n",
       "      <td>25.251</td>\n",
       "      <td>1.710000e-05</td>\n",
       "      <td>*</td>\n",
       "      <td>0.021000</td>\n",
       "    </tr>\n",
       "    <tr>\n",
       "      <th>condition:TrialType</th>\n",
       "      <td>1.0</td>\n",
       "      <td>33.0</td>\n",
       "      <td>0.001</td>\n",
       "      <td>9.710000e-01</td>\n",
       "      <td></td>\n",
       "      <td>0.000001</td>\n",
       "    </tr>\n",
       "  </tbody>\n",
       "</table>\n",
       "</div>"
      ],
      "text/plain": [
       "                     DFn   DFd        F             p p<.05       ges\n",
       "Effect                                                               \n",
       "condition            1.0  33.0  107.143  6.780000e-12     *  0.759000\n",
       "TrialType            1.0  33.0   25.251  1.710000e-05     *  0.021000\n",
       "condition:TrialType  1.0  33.0    0.001  9.710000e-01        0.000001"
      ]
     },
     "execution_count": 45,
     "metadata": {},
     "output_type": "execute_result"
    }
   ],
   "source": [
    "tbl = tbl.set_index('Effect')\n",
    "groupProb_df = effector_df.groupby('condition').mean()\n",
    "diff_hand = groupProb_df.loc['hand', 'goRT'] - groupProb_df.loc['hand', 'stopFailRT']\n",
    "diff_eye = groupProb_df.loc['eyes', 'goRT'] - groupProb_df.loc['eyes', 'stopFailRT']\n",
    "\n",
    "rt_by_prob_str = f'''A 2 (Trialtype: No-stop-signal vs. Stop-failure) x 2 (Effector: Hands vs. Eyes) mixed ANOVA on RT showed a main effect of manual versus saccades,\n",
    "F({tbl.loc['condition', 'DFn']:.0f}, {tbl.loc['condition', 'DFd']:.0f}) = {tbl.loc['condition', 'F']:.1f},  {get_p_str(tbl.loc['condition', 'p'])}, with manual responses (M = {groupProb_df.loc['hand', ['goRT', 'stopFailRT']].mean():.0f}ms) slower than saccades (M = {groupProb_df.loc['eyes', ['goRT', 'stopFailRT']].mean():.0f}ms). \n",
    "There was also a main effect of no-stop-signal versus stop-failure, F({tbl.loc['TrialType', 'DFn']:.0f}, {tbl.loc['TrialType', 'DFd']:.0f}) = {tbl.loc['TrialType', 'F']:.1f},  {get_p_str(tbl.loc['TrialType', 'p'])},\n",
    "with no-stop-signal RT (M = {effector_df['goRT'].mean():.0f} ms) slower than stop-failure RT (M = {effector_df['stopFailRT'].mean():.0f}ms), as expected with the race model. \n",
    "The interaction was not significant, F({tbl.loc['condition:TrialType', 'DFn']:.0f}, {tbl.loc['condition:TrialType', 'DFd']:.0f}) = {tbl.loc['condition:TrialType', 'F']:.3f}, {get_p_str(tbl.loc['condition:TrialType', 'p'])}.'''\n",
    "\n",
    "print(rt_by_prob_str)\n",
    "print(formats.BOLD + '*'*80 + formats.END)\n",
    "tbl"
   ]
  },
  {
   "cell_type": "markdown",
   "metadata": {},
   "source": [
    "### SSRT x SSD"
   ]
  },
  {
   "cell_type": "code",
   "execution_count": 46,
   "metadata": {},
   "outputs": [
    {
     "name": "stdout",
     "output_type": "stream",
     "text": [
      "\u001b[1mManual\u001b[0m\n",
      "0 subject(s) excluded from Manual\n",
      "Overall SSRT (M = 232 ms) was significantly slower than SSRT with short SSDs excluded (M = 209 ms),\n",
      "t(23) = 4.54, p < 0.001\n",
      "\u001b[1m********************************************************************************\u001b[0m\n",
      "\u001b[1mSaccadic\u001b[0m\n",
      "3 subject(s) excluded from Saccadic\n",
      "Overall SSRT (M = 82 ms) was  numerically but not statistically significantly slower than SSRT with short SSDs excluded (M = 77 ms),\n",
      "t(7) = 0.29, p = 0.78\n",
      "\u001b[1m********************************************************************************\u001b[0m\n"
     ]
    }
   ],
   "source": [
    "ssrt_comparison([cond9_df, cond15_df], ['Manual', 'Saccadic'])"
   ]
  },
  {
   "cell_type": "markdown",
   "metadata": {},
   "source": [
    "# __Auditory versus Visual Stop Signals (Conditions 16-19)__"
   ]
  },
  {
   "cell_type": "code",
   "execution_count": 47,
   "metadata": {},
   "outputs": [],
   "source": [
    "cond16_df = read_cond_file('Data/DataBtwnSubjAuditory1.xlsx')\n",
    "cond17_df = read_cond_file('Data/DataBtwnSubjAuditory2.xlsx')\n",
    "cond18_df = read_cond_file('Data/DataBtwnSubjVisual1.xlsx')\n",
    "cond19_df = read_cond_file('Data/DataBtwnSubjVisual2.xlsx')\n",
    "\n",
    "#shift subjects for following analyses\n",
    "cond17_df['Subject'] += cond16_df['Subject'].max()\n",
    "cond18_df['Subject'] += cond17_df['Subject'].max()\n",
    "cond19_df['Subject'] += cond18_df['Subject'].max()"
   ]
  },
  {
   "cell_type": "code",
   "execution_count": 48,
   "metadata": {},
   "outputs": [],
   "source": [
    "AV_df = mk_anova_df([cond16_df, cond17_df, cond18_df, cond19_df], ['Auditory', 'Auditory', 'Visual', 'Visual'])\n",
    "\n",
    "# RT by trialtype & modality Analysis\n",
    "RTAV_melt_df = pd.melt(AV_df, id_vars=['subject', 'condition'], value_vars=['goRT', 'stopFailRT'], var_name='TrialType', value_name='RT')"
   ]
  },
  {
   "cell_type": "code",
   "execution_count": 49,
   "metadata": {},
   "outputs": [],
   "source": [
    "%%R -i RTAV_melt_df -o tbl #RUN ANOVA\n",
    "\n",
    "aovres <- anova_test(\n",
    "  data = RTAV_melt_df, dv = RT, wid = subject,\n",
    "    within = TrialType,\n",
    "    between = condition,\n",
    "    type=\"3\",\n",
    "  )\n",
    "tbl = get_anova_table(aovres, correction=\"none\")"
   ]
  },
  {
   "cell_type": "code",
   "execution_count": 50,
   "metadata": {},
   "outputs": [
    {
     "name": "stdout",
     "output_type": "stream",
     "text": [
      "A 2 (Trialtype: No-stop-signal vs. Stop-failure) x 2 (Stop Modality: Auditory vs. Visual) mixed ANOVA on RTs was run.\n",
      "The main effect of Trialtype was significant, F(1, 102) = 475.0, p < 0.001,\n",
      "with no-stop-signal RT (M = 607 ms) longer than stop-failure RT (M = 540 ms). \n",
      "\u001b[1m********************************************************************************\u001b[0m\n"
     ]
    },
    {
     "data": {
      "text/html": [
       "<div>\n",
       "<style scoped>\n",
       "    .dataframe tbody tr th:only-of-type {\n",
       "        vertical-align: middle;\n",
       "    }\n",
       "\n",
       "    .dataframe tbody tr th {\n",
       "        vertical-align: top;\n",
       "    }\n",
       "\n",
       "    .dataframe thead th {\n",
       "        text-align: right;\n",
       "    }\n",
       "</style>\n",
       "<table border=\"1\" class=\"dataframe\">\n",
       "  <thead>\n",
       "    <tr style=\"text-align: right;\">\n",
       "      <th></th>\n",
       "      <th>DFn</th>\n",
       "      <th>DFd</th>\n",
       "      <th>F</th>\n",
       "      <th>p</th>\n",
       "      <th>p&lt;.05</th>\n",
       "      <th>ges</th>\n",
       "    </tr>\n",
       "    <tr>\n",
       "      <th>Effect</th>\n",
       "      <th></th>\n",
       "      <th></th>\n",
       "      <th></th>\n",
       "      <th></th>\n",
       "      <th></th>\n",
       "      <th></th>\n",
       "    </tr>\n",
       "  </thead>\n",
       "  <tbody>\n",
       "    <tr>\n",
       "      <th>condition</th>\n",
       "      <td>1.0</td>\n",
       "      <td>102.0</td>\n",
       "      <td>1.642</td>\n",
       "      <td>2.030000e-01</td>\n",
       "      <td></td>\n",
       "      <td>0.016000</td>\n",
       "    </tr>\n",
       "    <tr>\n",
       "      <th>TrialType</th>\n",
       "      <td>1.0</td>\n",
       "      <td>102.0</td>\n",
       "      <td>475.042</td>\n",
       "      <td>3.590000e-40</td>\n",
       "      <td>*</td>\n",
       "      <td>0.066000</td>\n",
       "    </tr>\n",
       "    <tr>\n",
       "      <th>condition:TrialType</th>\n",
       "      <td>1.0</td>\n",
       "      <td>102.0</td>\n",
       "      <td>1.666</td>\n",
       "      <td>2.000000e-01</td>\n",
       "      <td></td>\n",
       "      <td>0.000248</td>\n",
       "    </tr>\n",
       "  </tbody>\n",
       "</table>\n",
       "</div>"
      ],
      "text/plain": [
       "                     DFn    DFd        F             p p<.05       ges\n",
       "Effect                                                                \n",
       "condition            1.0  102.0    1.642  2.030000e-01        0.016000\n",
       "TrialType            1.0  102.0  475.042  3.590000e-40     *  0.066000\n",
       "condition:TrialType  1.0  102.0    1.666  2.000000e-01        0.000248"
      ]
     },
     "execution_count": 50,
     "metadata": {},
     "output_type": "execute_result"
    }
   ],
   "source": [
    "tbl = tbl.set_index('Effect')\n",
    "anova_str = f'''A 2 (Trialtype: No-stop-signal vs. Stop-failure) x 2 (Stop Modality: Auditory vs. Visual) mixed ANOVA on RTs was run.\n",
    "The main effect of Trialtype was significant, F({tbl.loc['TrialType', 'DFn']:.0f}, {tbl.loc['TrialType', 'DFd']:.0f}) = {tbl.loc['TrialType', 'F']:.1f}, {get_p_str(tbl.loc['TrialType', 'p'])},\n",
    "with no-stop-signal RT (M = {AV_df.goRT.mean():.0f} ms) longer than stop-failure RT (M = {AV_df.stopFailRT.mean():.0f} ms). '''\n",
    "\n",
    "print(anova_str)\n",
    "print(formats.BOLD + '*'*80 + formats.END)\n",
    "tbl"
   ]
  },
  {
   "cell_type": "markdown",
   "metadata": {},
   "source": [
    "### SSRT x SSD"
   ]
  },
  {
   "cell_type": "code",
   "execution_count": 51,
   "metadata": {},
   "outputs": [
    {
     "name": "stdout",
     "output_type": "stream",
     "text": [
      "\u001b[1mAuditory 1\u001b[0m\n",
      "0 subject(s) excluded from Auditory 1\n",
      "Overall SSRT (M = 194 ms) was significantly slower than SSRT with short SSDs excluded (M = 186 ms),\n",
      "t(23) = 3.15, p = 0.004\n",
      "\u001b[1m********************************************************************************\u001b[0m\n",
      "\u001b[1mAuditory 2\u001b[0m\n",
      "0 subject(s) excluded from Auditory 2\n",
      "Overall SSRT (M = 206 ms) was significantly slower than SSRT with short SSDs excluded (M = 190 ms),\n",
      "t(23) = 2.35, p = 0.03\n",
      "\u001b[1m********************************************************************************\u001b[0m\n",
      "\u001b[1mVisual 1\u001b[0m\n",
      "0 subject(s) excluded from Visual 1\n",
      "Overall SSRT (M = 216 ms) was significantly slower than SSRT with short SSDs excluded (M = 207 ms),\n",
      "t(31) = 2.61, p = 0.01\n",
      "\u001b[1m********************************************************************************\u001b[0m\n",
      "\u001b[1mVisual 2\u001b[0m\n",
      "0 subject(s) excluded from Visual 2\n",
      "Overall SSRT (M = 222 ms) was significantly slower than SSRT with short SSDs excluded (M = 215 ms),\n",
      "t(23) = 2.23, p = 0.04\n",
      "\u001b[1m********************************************************************************\u001b[0m\n"
     ]
    }
   ],
   "source": [
    "ssrt_comparison([cond16_df, cond17_df, cond18_df, cond19_df], ['Auditory 1', 'Auditory 2', 'Visual 1', 'Visual 2'])"
   ]
  },
  {
   "cell_type": "code",
   "execution_count": 52,
   "metadata": {},
   "outputs": [],
   "source": [
    "del cond16_df\n",
    "del cond17_df\n",
    "del cond18_df\n",
    "del cond19_df"
   ]
  },
  {
   "cell_type": "markdown",
   "metadata": {},
   "source": [
    "# __Between-Subject Stimulus Selective vs. Simple Stopping (Condition 20 and 9)__"
   ]
  },
  {
   "cell_type": "code",
   "execution_count": 53,
   "metadata": {},
   "outputs": [],
   "source": [
    "cond20_df = read_cond_file('Data/DataBtwnSubjStimSelec.xlsx')\n",
    "\n",
    "#shifting subject IDs for analysis\n",
    "cond20_df.Subject += cond9_df.Subject.max()"
   ]
  },
  {
   "cell_type": "code",
   "execution_count": 54,
   "metadata": {},
   "outputs": [],
   "source": [
    "selective_df = mk_anova_df([cond20_df, cond9_df], ['Selective', 'Simple'])\n",
    "\n",
    "# RT by trialtype & selective Analysis\n",
    "RTselec_melt_df = pd.melt(selective_df, id_vars=['subject', 'condition'], value_vars=['goRT', 'stopFailRT'], var_name='TrialType', value_name='RT')\n",
    "\n",
    "\n",
    "selective_RT = selective_df.loc[selective_df.condition=='Selective', ['goRT', 'stopFailRT']].mean().mean()\n",
    "simple_RT = selective_df.loc[selective_df.condition=='Simple', ['goRT', 'stopFailRT']].mean().mean()"
   ]
  },
  {
   "cell_type": "code",
   "execution_count": 55,
   "metadata": {},
   "outputs": [],
   "source": [
    "%%R -i RTselec_melt_df -o tbl #RUN ANOVA\n",
    "\n",
    "aovres <- anova_test(\n",
    "  data = RTselec_melt_df, dv = RT, wid = subject,\n",
    "    within = TrialType,\n",
    "    between = condition,\n",
    "    type=\"3\",\n",
    "  )\n",
    "tbl = get_anova_table(aovres, correction=\"none\")"
   ]
  },
  {
   "cell_type": "code",
   "execution_count": 56,
   "metadata": {},
   "outputs": [
    {
     "name": "stdout",
     "output_type": "stream",
     "text": [
      "To evaluate the race model in these data, a 2 (Trialtype: No-stop-signal vs. Stop-failure) x 2 (Stop Task: Simple vs. Stimulus selective) mixed ANOVA on RT was run. \n",
      "Both main effects were significant, with no-stop-signal RT (M = 503 ms) being slower than stop-failure RT (M = 491 ms), F(1, 46) = 7.8, p = 0.01, \n",
      "and RT in the selective stopping task (M = 546 ms) being slower than RT in the simple stopping task (M = 448 ms),\n",
      "F(1, 46) = 20.7, p < 0.001.\n",
      "However, the interaction was not significant, F(1, 46) = 2.2, p = 0.14.\n",
      "\u001b[1m********************************************************************************\u001b[0m\n"
     ]
    },
    {
     "data": {
      "text/html": [
       "<div>\n",
       "<style scoped>\n",
       "    .dataframe tbody tr th:only-of-type {\n",
       "        vertical-align: middle;\n",
       "    }\n",
       "\n",
       "    .dataframe tbody tr th {\n",
       "        vertical-align: top;\n",
       "    }\n",
       "\n",
       "    .dataframe thead th {\n",
       "        text-align: right;\n",
       "    }\n",
       "</style>\n",
       "<table border=\"1\" class=\"dataframe\">\n",
       "  <thead>\n",
       "    <tr style=\"text-align: right;\">\n",
       "      <th></th>\n",
       "      <th>DFn</th>\n",
       "      <th>DFd</th>\n",
       "      <th>F</th>\n",
       "      <th>p</th>\n",
       "      <th>p&lt;.05</th>\n",
       "      <th>ges</th>\n",
       "    </tr>\n",
       "    <tr>\n",
       "      <th>Effect</th>\n",
       "      <th></th>\n",
       "      <th></th>\n",
       "      <th></th>\n",
       "      <th></th>\n",
       "      <th></th>\n",
       "      <th></th>\n",
       "    </tr>\n",
       "  </thead>\n",
       "  <tbody>\n",
       "    <tr>\n",
       "      <th>condition</th>\n",
       "      <td>1.0</td>\n",
       "      <td>46.0</td>\n",
       "      <td>20.665</td>\n",
       "      <td>0.00004</td>\n",
       "      <td>*</td>\n",
       "      <td>0.301</td>\n",
       "    </tr>\n",
       "    <tr>\n",
       "      <th>TrialType</th>\n",
       "      <td>1.0</td>\n",
       "      <td>46.0</td>\n",
       "      <td>7.779</td>\n",
       "      <td>0.00800</td>\n",
       "      <td>*</td>\n",
       "      <td>0.007</td>\n",
       "    </tr>\n",
       "    <tr>\n",
       "      <th>condition:TrialType</th>\n",
       "      <td>1.0</td>\n",
       "      <td>46.0</td>\n",
       "      <td>2.243</td>\n",
       "      <td>0.14100</td>\n",
       "      <td></td>\n",
       "      <td>0.002</td>\n",
       "    </tr>\n",
       "  </tbody>\n",
       "</table>\n",
       "</div>"
      ],
      "text/plain": [
       "                     DFn   DFd       F        p p<.05    ges\n",
       "Effect                                                      \n",
       "condition            1.0  46.0  20.665  0.00004     *  0.301\n",
       "TrialType            1.0  46.0   7.779  0.00800     *  0.007\n",
       "condition:TrialType  1.0  46.0   2.243  0.14100        0.002"
      ]
     },
     "execution_count": 56,
     "metadata": {},
     "output_type": "execute_result"
    }
   ],
   "source": [
    "tbl = tbl.set_index('Effect')\n",
    "\n",
    "anova_str=f'''To evaluate the race model in these data, a 2 (Trialtype: No-stop-signal vs. Stop-failure) x 2 (Stop Task: Simple vs. Stimulus selective) mixed ANOVA on RT was run. \n",
    "Both main effects were significant, with no-stop-signal RT (M = {selective_df.goRT.mean():.0f} ms) being slower than stop-failure RT (M = {selective_df.stopFailRT.mean():.0f} ms), F({tbl.loc['TrialType', 'DFn']:.0f}, {tbl.loc['TrialType', 'DFd']:.0f}) = {tbl.loc['TrialType', 'F']:.1f}, {get_p_str(tbl.loc['TrialType', 'p'])}, \n",
    "and RT in the selective stopping task (M = {selective_RT:.0f} ms) being slower than RT in the simple stopping task (M = {simple_RT:.0f} ms),\n",
    "F({tbl.loc['condition', 'DFn']:.0f}, {tbl.loc['condition', 'DFd']:.0f}) = {tbl.loc['condition', 'F']:.1f}, {get_p_str(tbl.loc['condition', 'p'])}.\n",
    "However, the interaction was not significant, F({tbl.loc['condition:TrialType', 'DFn']:.0f}, {tbl.loc['condition:TrialType', 'DFd']:.0f}) = {tbl.loc['condition:TrialType', 'F']:.1f}, {get_p_str(tbl.loc['condition:TrialType', 'p'])}.'''\n",
    "\n",
    "print(anova_str)\n",
    "print(formats.BOLD + '*'*80 + formats.END)\n",
    "tbl"
   ]
  },
  {
   "cell_type": "code",
   "execution_count": 57,
   "metadata": {},
   "outputs": [
    {
     "name": "stderr",
     "output_type": "stream",
     "text": [
      "R[write to console]: t is large; approximation invoked.\n",
      "\n"
     ]
    }
   ],
   "source": [
    "#GET STRATEGY LABELS FOR COND20 PARTICIPANTS\n",
    "strat_dict = {}\n",
    "for subject in cond20_df.Subject.unique():\n",
    "    subdata = cond20_df.query('Subject == %d' % subject).copy()\n",
    "    # Get distribution of goRTs, signalRespondRTs, and ignoreRTs for t-tests and subsequent BayeFactor\n",
    "    goRTs = subdata.loc[(subdata['TrialType']=='go') & (subdata['GoRT']>0), 'GoRT'].values.copy()\n",
    "    signalRespondRTs = subdata.loc[(subdata['TrialType']=='stop') & (subdata['StopFailureRT']>0), 'StopFailureRT'].values.copy()\n",
    "    ignoreRTs = subdata.loc[(subdata['TrialType']=='ignore') & (subdata['IgnoreRT']>0), 'IgnoreRT'].values.copy()\n",
    "    \n",
    "    # stopfail vs go\n",
    "    t_signalRespond_v_noSignal, _ = stats.ttest_ind(signalRespondRTs, goRTs)\n",
    "    bayes_out_signalRespond = BayesFactor.ttest_tstat(t=float(t_signalRespond_v_noSignal),\n",
    "                                                  n1=len(signalRespondRTs),\n",
    "                                                  n2=len(goRTs), rscale = 1) #using 1 as in the 2014 paper\n",
    "    bf_signalRespond = math.exp(get_attr(bayes_out_signalRespond))\n",
    "    \n",
    "    # ignore vs go\n",
    "    t_ignore_v_noSignal, _ = stats.ttest_ind(ignoreRTs, goRTs)\n",
    "    bayes_out_ignore = BayesFactor.ttest_tstat(t=float(t_ignore_v_noSignal),\n",
    "                                                      n1=len(ignoreRTs),\n",
    "                                                      n2=len(goRTs), rscale = 1) #using 1 as in the 2014 paper\n",
    "    bf_ignore = math.exp(get_attr(bayes_out_ignore))\n",
    "    \n",
    "    #label - criteria is bf >1 + direction is correct (bf is not directional)\n",
    "    if (np.abs(bf_ignore) > 1) & (np.mean(ignoreRTs)>np.mean(goRTs)):\n",
    "        if (np.abs(bf_signalRespond) > 1) & (np.mean(goRTs)>np.mean(signalRespondRTs)): \n",
    "            strat_dict[subject] = 'SD'\n",
    "        else:\n",
    "            strat_dict[subject] = 'DDS'\n",
    "    else:\n",
    "        strat_dict[subject] = 'uncategorized/IDS'\n",
    "\n",
    "\n",
    "###################################################################################################\n",
    "# Generate a DF that has every stop trial which had a previous Go trial, contains the previous goRT\n",
    "verbose = False\n",
    "go_key = 'GoRT'\n",
    "\n",
    "\n",
    "stop_trials_w_matchingGo = None\n",
    "for subject in cond20_df.Subject.unique():\n",
    "    subdata = cond20_df.query('Subject == %d' % subject).copy()\n",
    "    if verbose: print('subject %d: found %d trials' % (subject, subdata.shape[0]))\n",
    "    ssdvals = [i for i in subdata.StopSignalDelay.unique() if isinstance(i, float) and i >=0] #ignore nan/missing values and 0/negative SSDs\n",
    "    ssdvals.sort()\n",
    "\n",
    "    # You find all pairs of trials in which the first is a go trials with a response and the second is a \n",
    "    # stop trial with a response. Both trials need to come from the same subject and block. \n",
    "    # This should be done separately for each SSD. Then the RT for the first trial in the pair should be \n",
    "    # subtracted from the second. This is the core analysis per SSD per subject.\n",
    "\n",
    "    for ssd in ssdvals:\n",
    "        ssd_data = subdata.query('StopSignalDelay == %d' % ssd).copy()\n",
    "        signal_respond_data = ssd_data.dropna(subset=[\"StopFailureRT\"])\n",
    "        signal_respond_data = signal_respond_data.loc[signal_respond_data['StopFailureRT'] > 0, :]\n",
    "        # for each signal respond trial, determine whether the previous trial was a go trial in the same block\n",
    "        signal_respond_data['MatchingGo'] = np.nan\n",
    "        if signal_respond_data.shape[0] > 0:\n",
    "            for t in signal_respond_data.index:\n",
    "                if t < 1:\n",
    "                    continue\n",
    "                prevtrial = cond20_df.loc[int(t) - 1, :]\n",
    "                if prevtrial.Block == signal_respond_data.loc[t, 'Block']:\n",
    "                    # blockmatch\n",
    "                    signal_respond_data.loc[t, 'MatchingGo'] = prevtrial[go_key]\n",
    "            signal_respond_data = signal_respond_data.dropna(subset=['MatchingGo'])\n",
    "            if stop_trials_w_matchingGo is None:\n",
    "                stop_trials_w_matchingGo = signal_respond_data\n",
    "            else:\n",
    "                stop_trials_w_matchingGo = pd.concat([stop_trials_w_matchingGo, signal_respond_data], axis=0)\n",
    "                \n",
    "                \n",
    "#Build up pertinent data for each subject: StopFailRTAtShorterSSDs, StopFailRTAtLongerSSDs, PrecedingNoStopRTAtShorterSSDs, PrecedingNoStopRTAtLongerSSDs\n",
    "stopFailRTs_shortSSDs = []\n",
    "stopFailRTs_longSSDs = []\n",
    "precedingNoStopRTs_shortSSDs = []\n",
    "precedingNoStopRTs_longSSDs = []\n",
    "\n",
    "for subject in cond20_df.Subject.unique():\n",
    "    subdata = stop_trials_w_matchingGo.query('Subject == %d' % subject).copy()\n",
    "    \n",
    "    shortSSD_df = subdata.loc[subdata.StopSignalDelay<250]\n",
    "    stopFailRTs_shortSSDs.append(shortSSD_df['StopFailureRT'].mean())\n",
    "    precedingNoStopRTs_shortSSDs.append(shortSSD_df['MatchingGo'].mean())\n",
    "    \n",
    "    longSSD_df = subdata.loc[subdata.StopSignalDelay>250]\n",
    "    stopFailRTs_longSSDs.append(longSSD_df['StopFailureRT'].mean())\n",
    "    precedingNoStopRTs_longSSDs.append(longSSD_df['MatchingGo'].mean())"
   ]
  },
  {
   "cell_type": "code",
   "execution_count": 58,
   "metadata": {},
   "outputs": [],
   "source": [
    "#Combine into a single df\n",
    "fig3c_shortSSD_df = pd.DataFrame({'subject': cond20_df.Subject.unique(), \n",
    "                                  'mean_stopFailureRT': stopFailRTs_shortSSDs,\n",
    "                                  'mean_precedingGoRT': precedingNoStopRTs_shortSSDs,\n",
    "                                  'SSD': '< 250',\n",
    "                                  'strategy': [strat_dict[sub] for sub in cond20_df.Subject.unique()]})\n",
    "\n",
    "fig3c_longSSD_df = pd.DataFrame({'subject': cond20_df.Subject.unique(), \n",
    "                                  'mean_stopFailureRT': stopFailRTs_longSSDs,\n",
    "                                  'mean_precedingGoRT': precedingNoStopRTs_longSSDs,\n",
    "                                  'SSD': '> 250',\n",
    "                                  'strategy': [strat_dict[sub] for sub in cond20_df.Subject.unique()]})\n",
    "\n",
    "rt_by_ssd_df = pd.concat([fig3c_shortSSD_df, fig3c_longSSD_df])\n",
    "rt_by_ssd_df = rt_by_ssd_df.dropna()\n",
    "cond20_melt_df = pd.melt(rt_by_ssd_df, id_vars=['subject', 'SSD', 'strategy'], value_vars=['mean_stopFailureRT', 'mean_precedingGoRT'], var_name='TrialType', value_name='RT')"
   ]
  },
  {
   "cell_type": "code",
   "execution_count": 59,
   "metadata": {},
   "outputs": [],
   "source": [
    "%%R -i cond20_melt_df -o c20_tbl # RUN ANOVA - this is equivalent to JASP\n",
    "\n",
    "library(rstatix)\n",
    "aovres <- anova_test(\n",
    "  data = cond20_melt_df, dv = RT, wid = subject,\n",
    "  between = strategy, within = c(SSD, TrialType),\n",
    "    type=\"3\"\n",
    "  )\n",
    "c20_tbl = get_anova_table(aovres)"
   ]
  },
  {
   "cell_type": "code",
   "execution_count": 60,
   "metadata": {},
   "outputs": [
    {
     "name": "stdout",
     "output_type": "stream",
     "text": [
      " We ran a 2 (Trialtype: Stop-failure vs. Preceding no-stop) x 2 (SSD: Shorter <250ms vs. Longer >250ms) x 2 (Strategy: Stop then Discriminate vs. Dependent Discriminate then Stop)\n",
      "mixed ANOVA on RT with the first two factors within-subjects and the last factor between-subjects. 250ms is similar to the mean SSD (239 ms)\n",
      "and was chosen to try to ensure a sufficient number of trials in the shorter and longer SSD levels of the SSD factor.\n",
      "There were no significant main effects or interactions (all p’s > .36) other than the 2-way interaction of Trialtype and SSD, F(1.0, 20.0) = 12.115, p = 0.002, η2 = 0.071. Importantly, there was no 3-way interaction...\n",
      "\u001b[1m********************************************************************************\u001b[0m\n"
     ]
    },
    {
     "data": {
      "text/html": [
       "<div>\n",
       "<style scoped>\n",
       "    .dataframe tbody tr th:only-of-type {\n",
       "        vertical-align: middle;\n",
       "    }\n",
       "\n",
       "    .dataframe tbody tr th {\n",
       "        vertical-align: top;\n",
       "    }\n",
       "\n",
       "    .dataframe thead th {\n",
       "        text-align: right;\n",
       "    }\n",
       "</style>\n",
       "<table border=\"1\" class=\"dataframe\">\n",
       "  <thead>\n",
       "    <tr style=\"text-align: right;\">\n",
       "      <th></th>\n",
       "      <th>DFn</th>\n",
       "      <th>DFd</th>\n",
       "      <th>F</th>\n",
       "      <th>p</th>\n",
       "      <th>p&lt;.05</th>\n",
       "      <th>ges</th>\n",
       "    </tr>\n",
       "    <tr>\n",
       "      <th>Effect</th>\n",
       "      <th></th>\n",
       "      <th></th>\n",
       "      <th></th>\n",
       "      <th></th>\n",
       "      <th></th>\n",
       "      <th></th>\n",
       "    </tr>\n",
       "  </thead>\n",
       "  <tbody>\n",
       "    <tr>\n",
       "      <th>strategy</th>\n",
       "      <td>1.0</td>\n",
       "      <td>20.0</td>\n",
       "      <td>0.688</td>\n",
       "      <td>0.417</td>\n",
       "      <td></td>\n",
       "      <td>0.020000</td>\n",
       "    </tr>\n",
       "    <tr>\n",
       "      <th>SSD</th>\n",
       "      <td>1.0</td>\n",
       "      <td>20.0</td>\n",
       "      <td>0.014</td>\n",
       "      <td>0.906</td>\n",
       "      <td></td>\n",
       "      <td>0.000119</td>\n",
       "    </tr>\n",
       "    <tr>\n",
       "      <th>TrialType</th>\n",
       "      <td>1.0</td>\n",
       "      <td>20.0</td>\n",
       "      <td>0.868</td>\n",
       "      <td>0.363</td>\n",
       "      <td></td>\n",
       "      <td>0.005000</td>\n",
       "    </tr>\n",
       "    <tr>\n",
       "      <th>strategy:SSD</th>\n",
       "      <td>1.0</td>\n",
       "      <td>20.0</td>\n",
       "      <td>0.105</td>\n",
       "      <td>0.749</td>\n",
       "      <td></td>\n",
       "      <td>0.000868</td>\n",
       "    </tr>\n",
       "    <tr>\n",
       "      <th>strategy:TrialType</th>\n",
       "      <td>1.0</td>\n",
       "      <td>20.0</td>\n",
       "      <td>0.016</td>\n",
       "      <td>0.901</td>\n",
       "      <td></td>\n",
       "      <td>0.000093</td>\n",
       "    </tr>\n",
       "    <tr>\n",
       "      <th>SSD:TrialType</th>\n",
       "      <td>1.0</td>\n",
       "      <td>20.0</td>\n",
       "      <td>12.115</td>\n",
       "      <td>0.002</td>\n",
       "      <td>*</td>\n",
       "      <td>0.073000</td>\n",
       "    </tr>\n",
       "    <tr>\n",
       "      <th>strategy:SSD:TrialType</th>\n",
       "      <td>1.0</td>\n",
       "      <td>20.0</td>\n",
       "      <td>0.603</td>\n",
       "      <td>0.446</td>\n",
       "      <td></td>\n",
       "      <td>0.004000</td>\n",
       "    </tr>\n",
       "  </tbody>\n",
       "</table>\n",
       "</div>"
      ],
      "text/plain": [
       "                        DFn   DFd       F      p p<.05       ges\n",
       "Effect                                                          \n",
       "strategy                1.0  20.0   0.688  0.417        0.020000\n",
       "SSD                     1.0  20.0   0.014  0.906        0.000119\n",
       "TrialType               1.0  20.0   0.868  0.363        0.005000\n",
       "strategy:SSD            1.0  20.0   0.105  0.749        0.000868\n",
       "strategy:TrialType      1.0  20.0   0.016  0.901        0.000093\n",
       "SSD:TrialType           1.0  20.0  12.115  0.002     *  0.073000\n",
       "strategy:SSD:TrialType  1.0  20.0   0.603  0.446        0.004000"
      ]
     },
     "execution_count": 60,
     "metadata": {},
     "output_type": "execute_result"
    }
   ],
   "source": [
    "# Save fig3c_df for JASP\n",
    "fig3c_df = pd.concat([fig3c_shortSSD_df.add_prefix('short_'), fig3c_longSSD_df.add_prefix('long_')], axis=1)\n",
    "fig3c_df.dropna()\n",
    "fig3c_df.to_csv(path.join(F2_INPUT_DIR, 'fig3cInput.csv'), index=False)\n",
    "\n",
    "c20_tbl = c20_tbl.set_index('Effect')\n",
    "\n",
    "# η2 values retrieved from Fig3Jasp/fig3cOutput.jasp\n",
    "strategy_eta = 0.018\n",
    "SSD_eta = 1.073e-4\n",
    "trialType_eta = 0.005\n",
    "strategyXSSD_eta = 7.834e-4\n",
    "strategyXtrialType_eta = 8.412e-5\n",
    "SSDXtrialType_eta = 0.071\n",
    "fullInteraction_eta = 0.04\n",
    "\n",
    "\n",
    "cond20_str=f''' We ran a 2 (Trialtype: Stop-failure vs. Preceding no-stop) x 2 (SSD: Shorter <250ms vs. Longer >250ms) x 2 (Strategy: Stop then Discriminate vs. Dependent Discriminate then Stop)\n",
    "mixed ANOVA on RT with the first two factors within-subjects and the last factor between-subjects. 250ms is similar to the mean SSD (239 ms)\n",
    "and was chosen to try to ensure a sufficient number of trials in the shorter and longer SSD levels of the SSD factor.\n",
    "There were no significant main effects or interactions (all p’s > .36) other than the 2-way interaction of Trialtype and SSD, F({c20_tbl.loc['SSD:TrialType', 'DFn']}, {c20_tbl.loc['SSD:TrialType', 'DFd']}) = {c20_tbl.loc['SSD:TrialType', 'F']}, {get_p_str(c20_tbl.loc['SSD:TrialType', 'p'])}, η2 = {SSDXtrialType_eta:.3f}. Importantly, there was no 3-way interaction...'''\n",
    "print(cond20_str)\n",
    "print(formats.BOLD + '*'*80 + formats.END)\n",
    "c20_tbl"
   ]
  },
  {
   "cell_type": "markdown",
   "metadata": {},
   "source": [
    "### SSRT x SSD"
   ]
  },
  {
   "cell_type": "code",
   "execution_count": 61,
   "metadata": {},
   "outputs": [
    {
     "name": "stdout",
     "output_type": "stream",
     "text": [
      "\u001b[1mSelective\u001b[0m\n",
      "0 subject(s) excluded from Selective\n",
      "Overall SSRT (M = 289 ms) was significantly slower than SSRT with short SSDs excluded (M = 245 ms),\n",
      "t(23) = 3.53, p = 0.002\n",
      "\u001b[1m********************************************************************************\u001b[0m\n",
      "\u001b[1mSimple\u001b[0m\n",
      "0 subject(s) excluded from Simple\n",
      "Overall SSRT (M = 232 ms) was significantly slower than SSRT with short SSDs excluded (M = 209 ms),\n",
      "t(23) = 4.54, p < 0.001\n",
      "\u001b[1m********************************************************************************\u001b[0m\n"
     ]
    }
   ],
   "source": [
    "ssrt_comparison([cond20_df, cond9_df], ['Selective', 'Simple'])"
   ]
  },
  {
   "cell_type": "code",
   "execution_count": 62,
   "metadata": {},
   "outputs": [],
   "source": [
    "del cond20_df\n",
    "del cond9_df"
   ]
  },
  {
   "cell_type": "markdown",
   "metadata": {},
   "source": [
    "# __Online Within-Subject Stimulus Selective vs. Simple Stopping (Condition 11-13)__"
   ]
  },
  {
   "cell_type": "code",
   "execution_count": 63,
   "metadata": {},
   "outputs": [],
   "source": [
    "cond13_df = read_cond_file('Data/DataTurkStimSelec.xlsx')"
   ]
  },
  {
   "cell_type": "code",
   "execution_count": 64,
   "metadata": {},
   "outputs": [],
   "source": [
    "online_df = mk_anova_df([cond11_df, cond12_df, cond13_df], ['low', 'high', 'selective'])"
   ]
  },
  {
   "cell_type": "code",
   "execution_count": 65,
   "metadata": {},
   "outputs": [
    {
     "name": "stdout",
     "output_type": "stream",
     "text": [
      "Correct no-signal RT was faster in the simple stop conditions (M = 588 ms)\n",
      "than in the stimulus selective stopping condition (M = 613 ms), t(338) = 5.24, p < 0.001.\n",
      "No-signal was slightly higher in the stimulus selective stopping condition (M = 95.2%)\n",
      "than the simple condition (M = 94.7%), t(338) = 2.13, p = 0.03.\n"
     ]
    }
   ],
   "source": [
    "low_df = online_df.loc[online_df['condition']=='low']\n",
    "high_df = online_df.loc[online_df['condition']=='high']\n",
    "conds1112_df = pd.concat([low_df, high_df])\n",
    "conds1112_df = conds1112_df.groupby('subject').mean()\n",
    "\n",
    "selective_df = online_df.loc[online_df['condition']=='selective']\n",
    "selective_df.set_index('subject', inplace=True)\n",
    "\n",
    "t_rt, p_rt = stats.ttest_1samp(selective_df['corrGoRT']-conds1112_df['corrGoRT'], 0)\n",
    "t_acc, p_acc = stats.ttest_1samp(selective_df['GoACC']-conds1112_df['GoACC'], 0)\n",
    "\n",
    "intial_comparison_str=f'''Correct no-signal RT was faster in the simple stop conditions (M = {conds1112_df.mean()['corrGoRT']:.0f} ms)\n",
    "than in the stimulus selective stopping condition (M = {selective_df.mean()['corrGoRT']:.0f} ms), t({len(selective_df['corrGoRT'])-1}) = {t_rt:.2f}, {get_p_str(p_rt)}.\n",
    "No-signal was slightly higher in the stimulus selective stopping condition (M = {selective_df.mean()['GoACC']:.1%})\n",
    "than the simple condition (M = {conds1112_df.mean()['GoACC']:.1%}), t({len(selective_df['GoACC'])-1}) = {t_acc:.2f}, {get_p_str(p_acc)}.'''\n",
    "print(intial_comparison_str)\n",
    "\n",
    "# 2x2 ANOVA\n",
    "conds1112_df['condition']='simple'\n",
    "onlineSelective_df = pd.concat([conds1112_df, selective_df])\n",
    "onlineSelective_df.reset_index(inplace=True) #move subject from index to column\n",
    "# RT by trialtype & modality Analysis\n",
    "RTonline_melt_df = pd.melt(onlineSelective_df, id_vars=['subject', 'condition'], value_vars=['goRT', 'stopFailRT'], var_name='TrialType', value_name='RT')\n",
    "\n",
    "interaction_df = onlineSelective_df.groupby('condition').mean()"
   ]
  },
  {
   "cell_type": "code",
   "execution_count": 66,
   "metadata": {},
   "outputs": [],
   "source": [
    "%%R -i RTonline_melt_df -o tbl #RUN ANOVA\n",
    "\n",
    "aovres <- anova_test(\n",
    "  data = RTonline_melt_df, dv = RT, wid = subject,\n",
    "    within = c(TrialType,condition),\n",
    "    type=\"3\",\n",
    "  )\n",
    "tbl = get_anova_table(aovres, correction=\"none\")"
   ]
  },
  {
   "cell_type": "code",
   "execution_count": 67,
   "metadata": {},
   "outputs": [
    {
     "name": "stdout",
     "output_type": "stream",
     "text": [
      "In order to evaluate the race model in these data, we ran 2 (Trialtype: No-stop-signal vs. Stop-failure) x 2 (Stop Type: Simple vs. Stimulus selective) repeated-measures ANOVA on RT.\n",
      "Both main effects were significant, with no-stop-signal RT (M = 601 ms) being slower than stop-failure RT (M = 570 ms), F(1.0, 338.0) = 339.6, p < 0.001,\n",
      "and RT in the stimulus selective stopping task (M = 602 ms) being slower than RT in the simple stopping task (M = 569 ms), F(1.0, 338.0) = 64.4, p < 0.001.\n",
      "The interaction was also significant, F(1.0, 338.0) = 38.4, p < 0.001, as the stop-failure minus no-stop-signal difference was larger in the simple (M = -38 ms)\n",
      "than the stimulus selective (M = -22 ms) stopping condition.\n",
      "\u001b[1m********************************************************************************\u001b[0m\n"
     ]
    },
    {
     "data": {
      "text/html": [
       "<div>\n",
       "<style scoped>\n",
       "    .dataframe tbody tr th:only-of-type {\n",
       "        vertical-align: middle;\n",
       "    }\n",
       "\n",
       "    .dataframe tbody tr th {\n",
       "        vertical-align: top;\n",
       "    }\n",
       "\n",
       "    .dataframe thead th {\n",
       "        text-align: right;\n",
       "    }\n",
       "</style>\n",
       "<table border=\"1\" class=\"dataframe\">\n",
       "  <thead>\n",
       "    <tr style=\"text-align: right;\">\n",
       "      <th></th>\n",
       "      <th>DFn</th>\n",
       "      <th>DFd</th>\n",
       "      <th>F</th>\n",
       "      <th>p</th>\n",
       "      <th>p&lt;.05</th>\n",
       "      <th>ges</th>\n",
       "    </tr>\n",
       "    <tr>\n",
       "      <th>Effect</th>\n",
       "      <th></th>\n",
       "      <th></th>\n",
       "      <th></th>\n",
       "      <th></th>\n",
       "      <th></th>\n",
       "      <th></th>\n",
       "    </tr>\n",
       "  </thead>\n",
       "  <tbody>\n",
       "    <tr>\n",
       "      <th>TrialType</th>\n",
       "      <td>1.0</td>\n",
       "      <td>338.0</td>\n",
       "      <td>339.639</td>\n",
       "      <td>5.420000e-53</td>\n",
       "      <td>*</td>\n",
       "      <td>0.034</td>\n",
       "    </tr>\n",
       "    <tr>\n",
       "      <th>condition</th>\n",
       "      <td>1.0</td>\n",
       "      <td>338.0</td>\n",
       "      <td>64.397</td>\n",
       "      <td>1.690000e-14</td>\n",
       "      <td>*</td>\n",
       "      <td>0.040</td>\n",
       "    </tr>\n",
       "    <tr>\n",
       "      <th>TrialType:condition</th>\n",
       "      <td>1.0</td>\n",
       "      <td>338.0</td>\n",
       "      <td>38.411</td>\n",
       "      <td>1.670000e-09</td>\n",
       "      <td>*</td>\n",
       "      <td>0.002</td>\n",
       "    </tr>\n",
       "  </tbody>\n",
       "</table>\n",
       "</div>"
      ],
      "text/plain": [
       "                     DFn    DFd        F             p p<.05    ges\n",
       "Effect                                                             \n",
       "TrialType            1.0  338.0  339.639  5.420000e-53     *  0.034\n",
       "condition            1.0  338.0   64.397  1.690000e-14     *  0.040\n",
       "TrialType:condition  1.0  338.0   38.411  1.670000e-09     *  0.002"
      ]
     },
     "execution_count": 67,
     "metadata": {},
     "output_type": "execute_result"
    }
   ],
   "source": [
    "tbl = tbl.set_index('Effect')\n",
    "anova_str=f'''In order to evaluate the race model in these data, we ran 2 (Trialtype: No-stop-signal vs. Stop-failure) x 2 (Stop Type: Simple vs. Stimulus selective) repeated-measures ANOVA on RT.\n",
    "Both main effects were significant, with no-stop-signal RT (M = {RTonline_melt_df[RTonline_melt_df['TrialType']=='goRT'].RT.mean():.0f} ms) being slower than stop-failure RT (M = {RTonline_melt_df[RTonline_melt_df['TrialType']=='stopFailRT'].RT.mean():.0f} ms), F({tbl.loc['TrialType', 'DFn']}, {tbl.loc['TrialType', 'DFd']}) = {tbl.loc['TrialType', 'F']:.1f}, {get_p_str(tbl.loc['TrialType', 'p'])},\n",
    "and RT in the stimulus selective stopping task (M = {RTonline_melt_df.loc[RTonline_melt_df.condition=='selective', 'RT'].mean():.0f} ms) being slower than RT in the simple stopping task (M = {RTonline_melt_df.loc[RTonline_melt_df.condition=='simple', 'RT'].mean():.0f} ms), F({tbl.loc['condition', 'DFn']}, {tbl.loc['condition', 'DFd']}) = {tbl.loc['condition', 'F']:.1f}, {get_p_str(tbl.loc['condition', 'p'])}.\n",
    "The interaction was also significant, F({tbl.loc['TrialType:condition', 'DFn']}, {tbl.loc['TrialType:condition', 'DFd']}) = {tbl.loc['TrialType:condition', 'F']:.1f}, {get_p_str(tbl.loc['TrialType:condition', 'p'])}, as the stop-failure minus no-stop-signal difference was larger in the simple (M = {(interaction_df['stopFailRT'] - interaction_df['goRT'])['simple']:.0f} ms)\n",
    "than the stimulus selective (M = {(interaction_df['stopFailRT'] - interaction_df['goRT'])['selective']:.0f} ms) stopping condition.'''\n",
    "print(anova_str)\n",
    "print(formats.BOLD+'*'*80+formats.END)\n",
    "tbl"
   ]
  },
  {
   "cell_type": "code",
   "execution_count": 68,
   "metadata": {},
   "outputs": [
    {
     "name": "stdout",
     "output_type": "stream",
     "text": [
      "\u001b[1monline selective\u001b[0m\n",
      "1 subject(s) excluded from online selective\n",
      "Overall SSRT (M = 299 ms) was significantly slower than SSRT with short SSDs excluded (M = 278 ms),\n",
      "t(337) = 11.22, p < 0.001\n",
      "\u001b[1m********************************************************************************\u001b[0m\n"
     ]
    }
   ],
   "source": [
    "ssrt_comparison([cond13_df], ['online selective'])"
   ]
  },
  {
   "cell_type": "markdown",
   "metadata": {},
   "source": [
    "# __In Lab Within-Subject Stimulus Selective vs. Simple Stopping (Conditions 21-24)__"
   ]
  },
  {
   "cell_type": "code",
   "execution_count": 69,
   "metadata": {},
   "outputs": [],
   "source": [
    "cond21_df = read_cond_file('Data/DataWithinSubjCentralGoSimple.xlsx')\n",
    "cond22_df = read_cond_file('Data/DataWithinSubjCentralGoSelec.xlsx')\n",
    "cond23_df = read_cond_file('Data/DataWithinSubjPeriphGoSimple.xlsx')\n",
    "cond24_df = read_cond_file('Data/DataWithinSubjPeriphGoSelec.xlsx')"
   ]
  },
  {
   "cell_type": "code",
   "execution_count": 70,
   "metadata": {},
   "outputs": [],
   "source": [
    "inlab_df = mk_anova_df([cond21_df, cond22_df, cond23_df, cond24_df], ['central simple', 'central selective', 'peripheral simple', 'peripheral selective'])\n",
    "inlab_df[['location', 'condition']] = inlab_df.condition.str.split(expand=True) \n",
    "\n",
    "RTinLab_melt_df = pd.melt(inlab_df, id_vars=['subject', 'condition', 'location'], value_vars=['goRT', 'stopFailRT'], var_name='TrialType', value_name='RT')"
   ]
  },
  {
   "cell_type": "code",
   "execution_count": 71,
   "metadata": {},
   "outputs": [],
   "source": [
    "%%R -i RTinLab_melt_df -o tbl #RUN ANOVA\n",
    "\n",
    "aovres <- anova_test(\n",
    "  data = RTinLab_melt_df, dv = RT, wid = subject,\n",
    "    within = c(TrialType,condition,location),\n",
    "    type=\"3\",\n",
    "  )\n",
    "tbl = get_anova_table(aovres, correction=\"none\")"
   ]
  },
  {
   "cell_type": "code",
   "execution_count": 72,
   "metadata": {},
   "outputs": [
    {
     "name": "stdout",
     "output_type": "stream",
     "text": [
      "A 2 (Stop Type: Simple vs. Stimulus selective) x 2 (Go Location: Central vs. Peripheral) x 2 (Trialtype: No-stop-signal vs. Stop-failure)\n",
      "repeated-measures ANOVA on RT was run. There were no significant main effects of simple versus selective or central versus peripheral,\n",
      "and those two variables did not interact, showing that RT was similar across simple and selective stopping and central and peripheral go stimuli.\n",
      "There was a significant main effect of no-stop-signal RT versus stop-failure RT, F(1, 23) = 29.2, p < 0.001,\n",
      "as no-stop-signal RT (M = 477 ms) was longer than stop-failure RT (M = 453 ms).\n",
      "There was also a significant interaction between selective versus simple and no-stop-signal RT versus stop-failure RT, F(1, 23) = 19.7, p < 0.001,\n",
      "with a larger difference between no-stop-signal RT and stop-failure RT in the simple conditions (M = 35 ms) than in the selective conditions (M = 13 ms).\n",
      "\u001b[1m********************************************************************************\u001b[0m\n"
     ]
    },
    {
     "data": {
      "text/html": [
       "<div>\n",
       "<style scoped>\n",
       "    .dataframe tbody tr th:only-of-type {\n",
       "        vertical-align: middle;\n",
       "    }\n",
       "\n",
       "    .dataframe tbody tr th {\n",
       "        vertical-align: top;\n",
       "    }\n",
       "\n",
       "    .dataframe thead th {\n",
       "        text-align: right;\n",
       "    }\n",
       "</style>\n",
       "<table border=\"1\" class=\"dataframe\">\n",
       "  <thead>\n",
       "    <tr style=\"text-align: right;\">\n",
       "      <th></th>\n",
       "      <th>DFn</th>\n",
       "      <th>DFd</th>\n",
       "      <th>F</th>\n",
       "      <th>p</th>\n",
       "      <th>p&lt;.05</th>\n",
       "      <th>ges</th>\n",
       "    </tr>\n",
       "    <tr>\n",
       "      <th>Effect</th>\n",
       "      <th></th>\n",
       "      <th></th>\n",
       "      <th></th>\n",
       "      <th></th>\n",
       "      <th></th>\n",
       "      <th></th>\n",
       "    </tr>\n",
       "  </thead>\n",
       "  <tbody>\n",
       "    <tr>\n",
       "      <th>TrialType</th>\n",
       "      <td>1.0</td>\n",
       "      <td>23.0</td>\n",
       "      <td>29.198</td>\n",
       "      <td>0.000017</td>\n",
       "      <td>*</td>\n",
       "      <td>0.009000</td>\n",
       "    </tr>\n",
       "    <tr>\n",
       "      <th>condition</th>\n",
       "      <td>1.0</td>\n",
       "      <td>23.0</td>\n",
       "      <td>1.091</td>\n",
       "      <td>0.307000</td>\n",
       "      <td></td>\n",
       "      <td>0.002000</td>\n",
       "    </tr>\n",
       "    <tr>\n",
       "      <th>location</th>\n",
       "      <td>1.0</td>\n",
       "      <td>23.0</td>\n",
       "      <td>2.340</td>\n",
       "      <td>0.140000</td>\n",
       "      <td></td>\n",
       "      <td>0.016000</td>\n",
       "    </tr>\n",
       "    <tr>\n",
       "      <th>TrialType:condition</th>\n",
       "      <td>1.0</td>\n",
       "      <td>23.0</td>\n",
       "      <td>19.662</td>\n",
       "      <td>0.000191</td>\n",
       "      <td>*</td>\n",
       "      <td>0.002000</td>\n",
       "    </tr>\n",
       "    <tr>\n",
       "      <th>TrialType:location</th>\n",
       "      <td>1.0</td>\n",
       "      <td>23.0</td>\n",
       "      <td>1.579</td>\n",
       "      <td>0.221000</td>\n",
       "      <td></td>\n",
       "      <td>0.000436</td>\n",
       "    </tr>\n",
       "    <tr>\n",
       "      <th>condition:location</th>\n",
       "      <td>1.0</td>\n",
       "      <td>23.0</td>\n",
       "      <td>3.012</td>\n",
       "      <td>0.096000</td>\n",
       "      <td></td>\n",
       "      <td>0.002000</td>\n",
       "    </tr>\n",
       "    <tr>\n",
       "      <th>TrialType:condition:location</th>\n",
       "      <td>1.0</td>\n",
       "      <td>23.0</td>\n",
       "      <td>0.015</td>\n",
       "      <td>0.905000</td>\n",
       "      <td></td>\n",
       "      <td>0.000001</td>\n",
       "    </tr>\n",
       "  </tbody>\n",
       "</table>\n",
       "</div>"
      ],
      "text/plain": [
       "                              DFn   DFd       F         p p<.05       ges\n",
       "Effect                                                                   \n",
       "TrialType                     1.0  23.0  29.198  0.000017     *  0.009000\n",
       "condition                     1.0  23.0   1.091  0.307000        0.002000\n",
       "location                      1.0  23.0   2.340  0.140000        0.016000\n",
       "TrialType:condition           1.0  23.0  19.662  0.000191     *  0.002000\n",
       "TrialType:location            1.0  23.0   1.579  0.221000        0.000436\n",
       "condition:location            1.0  23.0   3.012  0.096000        0.002000\n",
       "TrialType:condition:location  1.0  23.0   0.015  0.905000        0.000001"
      ]
     },
     "execution_count": 72,
     "metadata": {},
     "output_type": "execute_result"
    }
   ],
   "source": [
    "tbl = tbl.set_index('Effect')\n",
    "\n",
    "grRT_df = RTinLab_melt_df.groupby('TrialType').mean()\n",
    "\n",
    "mi_rt_df = RTinLab_melt_df.groupby(['condition', 'TrialType']).mean()\n",
    "\n",
    "simple_diff = mi_rt_df.loc['simple'].loc['goRT', 'RT'] - mi_rt_df.loc['simple'].loc['stopFailRT', 'RT']\n",
    "selective_diff = mi_rt_df.loc['selective'].loc['goRT', 'RT'] - mi_rt_df.loc['selective'].loc['stopFailRT', 'RT']\n",
    "\n",
    "inlab_str=f'''A 2 (Stop Type: Simple vs. Stimulus selective) x 2 (Go Location: Central vs. Peripheral) x 2 (Trialtype: No-stop-signal vs. Stop-failure)\n",
    "repeated-measures ANOVA on RT was run. There were no significant main effects of simple versus selective or central versus peripheral,\n",
    "and those two variables did not interact, showing that RT was similar across simple and selective stopping and central and peripheral go stimuli.\n",
    "There was a significant main effect of no-stop-signal RT versus stop-failure RT, F({tbl.loc['TrialType', 'DFn']:.0f}, {tbl.loc['TrialType', 'DFd']:.0f}) = {tbl.loc['TrialType', 'F']:.1f}, {get_p_str(tbl.loc['TrialType', 'p'])},\n",
    "as no-stop-signal RT (M = {grRT_df.loc['goRT', 'RT']:.0f} ms) was longer than stop-failure RT (M = {grRT_df.loc['stopFailRT', 'RT']:.0f} ms).\n",
    "There was also a significant interaction between selective versus simple and no-stop-signal RT versus stop-failure RT, F({tbl.loc['TrialType:condition', 'DFn']:.0f}, {tbl.loc['TrialType:condition', 'DFd']:.0f}) = {tbl.loc['TrialType:condition', 'F']:.1f}, {get_p_str(tbl.loc['TrialType:condition', 'p'])},\n",
    "with a larger difference between no-stop-signal RT and stop-failure RT in the simple conditions (M = {simple_diff:.0f} ms) than in the selective conditions (M = {selective_diff:.0f} ms).'''\n",
    "print(inlab_str)\n",
    "print(formats.BOLD+'*'*80+formats.END)\n",
    "tbl"
   ]
  },
  {
   "cell_type": "markdown",
   "metadata": {},
   "source": [
    "### SSRT x SSD"
   ]
  },
  {
   "cell_type": "code",
   "execution_count": 73,
   "metadata": {},
   "outputs": [
    {
     "name": "stdout",
     "output_type": "stream",
     "text": [
      "\u001b[1mcentral simple\u001b[0m\n",
      "1 subject(s) excluded from central simple\n",
      "Overall SSRT (M = 200 ms) was significantly slower than SSRT with short SSDs excluded (M = 194 ms),\n",
      "t(22) = 2.74, p = 0.01\n",
      "\u001b[1m********************************************************************************\u001b[0m\n",
      "\u001b[1mcentral selective\u001b[0m\n",
      "1 subject(s) excluded from central selective\n",
      "Overall SSRT (M = 257 ms) was significantly slower than SSRT with short SSDs excluded (M = 213 ms),\n",
      "t(22) = 3.67, p = 0.001\n",
      "\u001b[1m********************************************************************************\u001b[0m\n",
      "\u001b[1mperipheral simple\u001b[0m\n",
      "2 subject(s) excluded from peripheral simple\n",
      "Overall SSRT (M = 201 ms) was significantly slower than SSRT with short SSDs excluded (M = 185 ms),\n",
      "t(21) = 2.77, p = 0.01\n",
      "\u001b[1m********************************************************************************\u001b[0m\n",
      "\u001b[1mperipheral selective\u001b[0m\n",
      "1 subject(s) excluded from peripheral selective\n",
      "Overall SSRT (M = 243 ms) was significantly slower than SSRT with short SSDs excluded (M = 200 ms),\n",
      "t(22) = 4.84, p < 0.001\n",
      "\u001b[1m********************************************************************************\u001b[0m\n"
     ]
    }
   ],
   "source": [
    "ssrt_comparison([cond21_df, cond22_df, cond23_df, cond24_df], ['central simple', 'central selective', 'peripheral simple', 'peripheral selective'])"
   ]
  },
  {
   "cell_type": "code",
   "execution_count": 74,
   "metadata": {},
   "outputs": [],
   "source": [
    "del cond13_df\n",
    "del cond21_df\n",
    "del cond22_df\n",
    "del cond23_df\n",
    "del cond24_df"
   ]
  },
  {
   "cell_type": "markdown",
   "metadata": {},
   "source": [
    "# __Online Within-Subject Motor Selective vs. Simple Stopping (Conditions 11, 12, and 14)__"
   ]
  },
  {
   "cell_type": "code",
   "execution_count": 75,
   "metadata": {},
   "outputs": [],
   "source": [
    "cond14_df = read_cond_file('Data/DataTurkMotorSelec.xlsx')"
   ]
  },
  {
   "cell_type": "code",
   "execution_count": 76,
   "metadata": {},
   "outputs": [
    {
     "name": "stdout",
     "output_type": "stream",
     "text": [
      "mean correct non-critical Go RT =  529ms\n",
      "mean correct critical Go RT =  611ms\n",
      "t(338)=-24.4, p < 0.001)\n",
      "\u001b[1m********************************************************************************\u001b[0m\n",
      "mean non-critical Go ACC =  96.2%ms\n",
      "mean critical Go ACC =  92.6%ms\n",
      "t(338)= 12.4, p < 0.001)\n",
      "\u001b[1m********************************************************************************\u001b[0m\n",
      "mean motor selective correct critical Go RT  =  611ms\n",
      "mean simple correct Go RT  =  588ms\n",
      "t(338)= 6.03, p < 0.001)\n",
      "\u001b[1m********************************************************************************\u001b[0m\n",
      "mean motor selective correct critical Go ACC =  92.6%ms\n",
      "mean simple correct Go ACC =  94.7%ms\n",
      "t(338)=-7.24, p < 0.001)\n"
     ]
    }
   ],
   "source": [
    "critical_RTs = []\n",
    "critical_ACCs = []\n",
    "noncritical_RTs = []\n",
    "noncritical_ACCs = [] \n",
    "for subject in full_passed_turkers:\n",
    "    subdata = cond14_df.query('Subject == %d' % subject).copy()\n",
    "    crit_RT = get_mean_corr_RT(subdata, trial_type='GoCritical')\n",
    "    noncrit_RT = get_mean_corr_RT(subdata, trial_type='GoNoncritical')\n",
    "    crit_ACC = get_acc(subdata, trial_type='GoCritical')\n",
    "    noncrit_ACC = get_acc(subdata, trial_type='GoNoncritical')\n",
    "    \n",
    "    critical_RTs.append(crit_RT)\n",
    "    noncritical_RTs.append(noncrit_RT)\n",
    "    critical_ACCs.append(crit_ACC)\n",
    "    noncritical_ACCs.append(noncrit_ACC)\n",
    "    \n",
    "print(f'mean correct non-critical Go RT = {np.mean(noncritical_RTs): .0f}ms')\n",
    "print(f'mean correct critical Go RT = {np.mean(critical_RTs): .0f}ms')\n",
    "t_rt, p_rt = stats.ttest_1samp(np.asarray(noncritical_RTs)-np.asarray(critical_RTs), 0)\n",
    "print(f't({len(noncritical_RTs)-1})={t_rt: .1f}, {get_p_str(p_rt)})')\n",
    "print(formats.BOLD + '*'*80 + formats.END)\n",
    "print(f'mean non-critical Go ACC = {np.mean(noncritical_ACCs): .1%}ms')\n",
    "print(f'mean critical Go ACC = {np.mean(critical_ACCs): .1%}ms')\n",
    "t_acc, p_acc = stats.ttest_1samp(np.asarray(noncritical_ACCs)-np.asarray(critical_ACCs), 0)\n",
    "print(f't({len(noncritical_RTs)-1})={t_acc: .1f}, {get_p_str(p_acc)})')\n",
    "print(formats.BOLD + '*'*80 + formats.END)\n",
    "\n",
    "#get RT, ACC for each subject in both 11 and 12, average\n",
    "RTs = []\n",
    "ACCs = []\n",
    "for subject in full_passed_turkers:\n",
    "    subdata11 = cond11_df.query('Subject == %d' % subject).copy()\n",
    "    RT11 = get_mean_corr_RT(subdata11, trial_type='Go')\n",
    "    ACC11 = get_acc(subdata11, trial_type='Go')\n",
    "    \n",
    "    subdata12 = cond12_df.query('Subject == %d' % subject).copy()\n",
    "    RT12 = get_mean_corr_RT(subdata12, trial_type='Go')\n",
    "    ACC12 = get_acc(subdata12, trial_type='Go')\n",
    "    \n",
    "    RTs.append(np.mean([RT11, RT12]))\n",
    "    ACCs.append(np.mean([ACC11, ACC12]))\n",
    "\n",
    "print(f'mean motor selective correct critical Go RT  = {np.mean(critical_RTs): .0f}ms')\n",
    "print(f'mean simple correct Go RT  = {np.mean(RTs): .0f}ms')\n",
    "t_simpSelec_rt, p_simpSelec_rt = stats.ttest_1samp(np.asarray(critical_RTs)-np.asarray(RTs), 0)\n",
    "print(f't({len(critical_RTs)-1})={t_simpSelec_rt: .2f}, {get_p_str(p_simpSelec_rt)})')\n",
    "print(formats.BOLD + '*'*80 + formats.END)\n",
    "\n",
    "print(f'mean motor selective correct critical Go ACC = {np.mean(critical_ACCs): .1%}ms')\n",
    "print(f'mean simple correct Go ACC = {np.mean(ACCs): .1%}ms')\n",
    "t_simpSelec_acc, p_simpSelec_acc = stats.ttest_1samp(np.asarray(critical_ACCs)-np.asarray(ACCs), 0)\n",
    "print(f't({len(critical_RTs)-1})={t_simpSelec_acc: .2f}, {get_p_str(p_simpSelec_acc)})')\n"
   ]
  },
  {
   "cell_type": "code",
   "execution_count": 77,
   "metadata": {},
   "outputs": [],
   "source": [
    "simpleMotorSelec_anova_df = mk_anova_df([cond11_df, cond12_df, cond14_df], ['11', '12', 'motor'])\n",
    "\n",
    "# pull out and average conditions 11 and 12\n",
    "summary11_df = simpleMotorSelec_anova_df.loc[simpleMotorSelec_anova_df.condition=='11']\n",
    "summary12_df = simpleMotorSelec_anova_df.loc[simpleMotorSelec_anova_df.condition=='12']\n",
    "summary1112_df = pd.concat([summary11_df, summary12_df]).groupby('subject').mean()\n",
    "#fix indices, condition\n",
    "summary1112_df.reset_index(inplace=True)\n",
    "summary1112_df['condition'] = 'simple'\n",
    "\n",
    "#recombine\n",
    "simpleMotorSelec_anova_df = pd.concat([summary1112_df, simpleMotorSelec_anova_df.loc[simpleMotorSelec_anova_df.condition=='motor']], sort=True)"
   ]
  },
  {
   "cell_type": "code",
   "execution_count": 78,
   "metadata": {},
   "outputs": [],
   "source": [
    "RTmotor_melt_df = pd.melt(simpleMotorSelec_anova_df, id_vars=['subject', 'condition'], value_vars=['goRT', 'stopFailRT'], var_name='TrialType', value_name='RT')\n",
    "\n",
    "twoByTwoResults_df = RTmotor_melt_df.groupby(['condition', 'TrialType']).mean()\n",
    "\n",
    "motorInteraction = twoByTwoResults_df.loc[( 'motor', 'goRT'), 'RT'] - twoByTwoResults_df.loc[( 'motor', 'stopFailRT'), 'RT']\n",
    "simpleInteraction = twoByTwoResults_df.loc[( 'simple', 'goRT'), 'RT'] - twoByTwoResults_df.loc[( 'simple', 'stopFailRT'), 'RT']"
   ]
  },
  {
   "cell_type": "code",
   "execution_count": 79,
   "metadata": {},
   "outputs": [],
   "source": [
    "%%R -i RTmotor_melt_df -o tbl #RUN ANOVA\n",
    "\n",
    "aovres <- anova_test(\n",
    "  data = RTmotor_melt_df, dv = RT, wid = subject,\n",
    "    within = c(TrialType,condition),\n",
    "    type=\"3\",\n",
    "  )\n",
    "tbl = get_anova_table(aovres, correction=\"none\")"
   ]
  },
  {
   "cell_type": "code",
   "execution_count": 80,
   "metadata": {},
   "outputs": [
    {
     "name": "stdout",
     "output_type": "stream",
     "text": [
      "we ran 2 (Trialtype: No-stop-signal vs. Stop-failure) x 2 (Stop type: Simple vs. Motor selective) repeated-measures ANOVA on RT.\n",
      "Both main effects and the interaction were significant. No-stop-signal RT (M = 597 ms) was slower than stop-failure RT (M = 567 ms),\n",
      "F(1, 338) = 357.3, p < 0.001,\n",
      "and RT from the critical response of the motor selective stopping task (M = 595 ms) was slower than RT in the simple stopping task (M = 569 ms),\n",
      "F(1, 338) = 56.4, p < 0.001.\n",
      "Finally, the no-stop-signal minus stop-failure difference was larger in the simple (M = 38 ms) than the motor selective (M = 23 ms) stopping condition,\n",
      "F(1, 338) = 37.6, p < 0.001.\n",
      "\u001b[1m********************************************************************************\u001b[0m\n"
     ]
    },
    {
     "data": {
      "text/html": [
       "<div>\n",
       "<style scoped>\n",
       "    .dataframe tbody tr th:only-of-type {\n",
       "        vertical-align: middle;\n",
       "    }\n",
       "\n",
       "    .dataframe tbody tr th {\n",
       "        vertical-align: top;\n",
       "    }\n",
       "\n",
       "    .dataframe thead th {\n",
       "        text-align: right;\n",
       "    }\n",
       "</style>\n",
       "<table border=\"1\" class=\"dataframe\">\n",
       "  <thead>\n",
       "    <tr style=\"text-align: right;\">\n",
       "      <th></th>\n",
       "      <th>DFn</th>\n",
       "      <th>DFd</th>\n",
       "      <th>F</th>\n",
       "      <th>p</th>\n",
       "      <th>p&lt;.05</th>\n",
       "      <th>ges</th>\n",
       "    </tr>\n",
       "    <tr>\n",
       "      <th>Effect</th>\n",
       "      <th></th>\n",
       "      <th></th>\n",
       "      <th></th>\n",
       "      <th></th>\n",
       "      <th></th>\n",
       "      <th></th>\n",
       "    </tr>\n",
       "  </thead>\n",
       "  <tbody>\n",
       "    <tr>\n",
       "      <th>TrialType</th>\n",
       "      <td>1.0</td>\n",
       "      <td>338.0</td>\n",
       "      <td>357.325</td>\n",
       "      <td>6.880000e-55</td>\n",
       "      <td>*</td>\n",
       "      <td>0.041</td>\n",
       "    </tr>\n",
       "    <tr>\n",
       "      <th>condition</th>\n",
       "      <td>1.0</td>\n",
       "      <td>338.0</td>\n",
       "      <td>56.402</td>\n",
       "      <td>5.310000e-13</td>\n",
       "      <td>*</td>\n",
       "      <td>0.030</td>\n",
       "    </tr>\n",
       "    <tr>\n",
       "      <th>TrialType:condition</th>\n",
       "      <td>1.0</td>\n",
       "      <td>338.0</td>\n",
       "      <td>37.556</td>\n",
       "      <td>2.470000e-09</td>\n",
       "      <td>*</td>\n",
       "      <td>0.003</td>\n",
       "    </tr>\n",
       "  </tbody>\n",
       "</table>\n",
       "</div>"
      ],
      "text/plain": [
       "                     DFn    DFd        F             p p<.05    ges\n",
       "Effect                                                             \n",
       "TrialType            1.0  338.0  357.325  6.880000e-55     *  0.041\n",
       "condition            1.0  338.0   56.402  5.310000e-13     *  0.030\n",
       "TrialType:condition  1.0  338.0   37.556  2.470000e-09     *  0.003"
      ]
     },
     "execution_count": 80,
     "metadata": {},
     "output_type": "execute_result"
    }
   ],
   "source": [
    "tbl = tbl.set_index('Effect')\n",
    "motorSelec_anova_str=f'''we ran 2 (Trialtype: No-stop-signal vs. Stop-failure) x 2 (Stop type: Simple vs. Motor selective) repeated-measures ANOVA on RT.\n",
    "Both main effects and the interaction were significant. No-stop-signal RT (M = {simpleMotorSelec_anova_df.goRT.mean():.0f} ms) was slower than stop-failure RT (M = {simpleMotorSelec_anova_df.stopFailRT.mean():.0f} ms),\n",
    "F({tbl.loc['TrialType', 'DFn']:.0f}, {tbl.loc['TrialType', 'DFd']:.0f}) = {tbl.loc['TrialType', 'F']:.1f}, {get_p_str(tbl.loc['TrialType', 'p'])},\n",
    "and RT from the critical response of the motor selective stopping task (M = {RTmotor_melt_df.loc[RTmotor_melt_df.condition=='motor', 'RT'].mean():.0f} ms) was slower than RT in the simple stopping task (M = {RTmotor_melt_df.loc[RTmotor_melt_df.condition=='simple', 'RT'].mean():.0f} ms),\n",
    "F({tbl.loc['condition', 'DFn']:.0f}, {tbl.loc['condition', 'DFd']:.0f}) = {tbl.loc['condition', 'F']:.1f}, {get_p_str(tbl.loc['condition', 'p'])}.\n",
    "Finally, the no-stop-signal minus stop-failure difference was larger in the simple (M = {simpleInteraction:.0f} ms) than the motor selective (M = {motorInteraction:.0f} ms) stopping condition,\n",
    "F({tbl.loc['TrialType:condition', 'DFn']:.0f}, {tbl.loc['TrialType:condition', 'DFd']:.0f}) = {tbl.loc['TrialType:condition', 'F']:.1f}, {get_p_str(tbl.loc['TrialType:condition', 'p'])}.'''\n",
    "print(motorSelec_anova_str)\n",
    "print(formats.BOLD + '*'*80 + formats.END)\n",
    "\n",
    "tbl"
   ]
  },
  {
   "cell_type": "markdown",
   "metadata": {},
   "source": [
    "### SSRT x SSD Comparison"
   ]
  },
  {
   "cell_type": "code",
   "execution_count": 81,
   "metadata": {},
   "outputs": [
    {
     "name": "stdout",
     "output_type": "stream",
     "text": [
      "\u001b[1monline motor selective\u001b[0m\n",
      "0 subject(s) excluded from online motor selective\n",
      "Overall SSRT (M = 322 ms) was significantly slower than SSRT with short SSDs excluded (M = 291 ms),\n",
      "t(338) = 15.03, p < 0.001\n",
      "\u001b[1m********************************************************************************\u001b[0m\n"
     ]
    }
   ],
   "source": [
    "ssrt_comparison([cond14_df], ['online motor selective'])"
   ]
  },
  {
   "cell_type": "code",
   "execution_count": 82,
   "metadata": {},
   "outputs": [],
   "source": [
    "del cond11_df\n",
    "del cond12_df\n",
    "del cond14_df"
   ]
  },
  {
   "cell_type": "markdown",
   "metadata": {},
   "source": [
    "# __Variable Difficulty (condition 25)__"
   ]
  },
  {
   "cell_type": "code",
   "execution_count": 83,
   "metadata": {},
   "outputs": [],
   "source": [
    "cond25_df = read_cond_file('Data/DataMatzke.xlsx')"
   ]
  },
  {
   "cell_type": "code",
   "execution_count": 84,
   "metadata": {},
   "outputs": [
    {
     "name": "stdout",
     "output_type": "stream",
     "text": [
      "\u001b[1mVariable Difficulty\u001b[0m\n",
      "0 subject(s) excluded from Variable Difficulty\n",
      "Overall SSRT (M = 340 ms) was significantly slower than SSRT with short SSDs excluded (M = 306 ms),\n",
      "t(52) = 8.43, p < 0.001\n",
      "\u001b[1m********************************************************************************\u001b[0m\n"
     ]
    }
   ],
   "source": [
    "ssrt_comparison([cond25_df], ['Variable Difficulty'])"
   ]
  },
  {
   "cell_type": "code",
   "execution_count": null,
   "metadata": {},
   "outputs": [],
   "source": []
  }
 ],
 "metadata": {
  "kernelspec": {
   "display_name": "Python 3",
   "language": "python",
   "name": "python3"
  },
  "language_info": {
   "codemirror_mode": {
    "name": "ipython",
    "version": 3
   },
   "file_extension": ".py",
   "mimetype": "text/x-python",
   "name": "python",
   "nbconvert_exporter": "python",
   "pygments_lexer": "ipython3",
   "version": "3.7.3"
  }
 },
 "nbformat": 4,
 "nbformat_minor": 4
}
