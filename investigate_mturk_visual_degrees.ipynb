{
 "cells": [
  {
   "cell_type": "code",
   "execution_count": 1,
   "metadata": {},
   "outputs": [],
   "source": [
    "import warnings\n",
    "import pandas as pd\n",
    "import matplotlib.pyplot as plt\n",
    "import seaborn\n",
    "import matplotlib.patches as patches\n",
    "import numpy as np\n",
    "from os import path, makedirs\n",
    "from glob import glob\n",
    "from cycler import cycler\n",
    "from matplotlib.ticker import FormatStrFormatter\n",
    "from collections import Counter\n",
    "import statistics\n",
    "\n",
    "import numbers\n",
    "\n",
    "\n",
    "import warnings\n",
    "import rpy2\n",
    "import math\n",
    "import matplotlib\n",
    "import numpy as np\n",
    "import pandas as pd\n",
    "import seaborn as sns\n",
    "import scipy.stats as stats\n",
    "import matplotlib.pyplot as plt\n",
    "from os import path, makedirs\n",
    "from glob import glob\n",
    "from statsmodels.stats.anova import AnovaRM\n",
    "from rpy2.robjects.packages import importr\n",
    "# import rpy2\n",
    "\n",
    "    \n",
    "from utils import formats, full_passed_turkers, DATA_DIR\n",
    "from utils import read_cond_file, get_attr, calc_SSRT, filter_ssrt_subs, get_p_str, ssrt_comparison\n",
    "%matplotlib inline\n",
    "%load_ext rpy2.ipython"
   ]
  },
  {
   "cell_type": "markdown",
   "metadata": {},
   "source": [
    "# WRANGLING RAW DATA"
   ]
  },
  {
   "cell_type": "code",
   "execution_count": 2,
   "metadata": {},
   "outputs": [],
   "source": [
    "def clean_data_initial(data_df, gocond='go'):\n",
    "    \n",
    "    useless_columns = ['SS_duration', 'SS_stimulus', 'battery_name',\n",
    "                       'experiment_exp_id', 'finishtime', 'focus_shifts',\n",
    "                       'full_screen', 'passed_check', 'possible_responses',\n",
    "                       'time_elapsed', 'trial_type']\n",
    "\n",
    "\n",
    "    test_data = data_df.query(\"exp_stage == 'test'\")\n",
    "    test_data.loc[:, 'stimulus'] = test_data['stimulus'].astype(str).apply(lambda x: x.split('.png')[0].split('/')[-1])\n",
    "    test_data.loc[:, 'worker_id'] = test_data['worker_id'].astype(str).apply(lambda x: x.replace('s', '')).astype(int)\n",
    "\n",
    "    test_data = test_data.drop(useless_columns, axis=1, errors='ignore')\n",
    "\n",
    "    test_data = test_data.rename({'SS_trial_type': 'TrialType',\n",
    "                         'SS_delay': 'StopSignalDelay',\n",
    "                         'worker_id': 'Subject'}, axis=1)\n",
    "\n",
    "    test_data.loc[test_data.TrialType!='stop', 'StopSignalDelay'] = np.nan\n",
    "\n",
    "    test_data['GoTrialResponse'] = np.where(test_data.TrialType==gocond, test_data.key_press, np.nan)\n",
    "    test_data['GoTrialCorrectResponse'] = np.where(test_data.TrialType==gocond, test_data.correct_response, np.nan)\n",
    "    test_data['StopTrialResponse'] = np.where(test_data.TrialType=='stop', test_data.key_press, np.nan)\n",
    "\n",
    "\n",
    "    test_data['GoRT'] = np.where(test_data.TrialType==gocond, test_data.rt, np.nan)\n",
    "    test_data['StopFailureRT'] = np.where(test_data.TrialType=='stop', test_data.rt, np.nan)\n",
    "\n",
    "    test_data = test_data.reset_index(drop=True)\n",
    "    \n",
    "    return test_data"
   ]
  },
  {
   "cell_type": "code",
   "execution_count": 3,
   "metadata": {},
   "outputs": [],
   "source": [
    "def add_block(data_df, start_indices):\n",
    "    data_df = data_df.copy()\n",
    "    data_df['Block'] = np.nan\n",
    "\n",
    "    for block_num, start_idx in enumerate(start_indices):\n",
    "        block_idx = ((test_ss_data.trial_num >= start_idx) & (test_ss_data.trial_num < start_idx+50))\n",
    "        data_df.loc[block_idx, 'Block'] = block_num + 1\n",
    "    return data_df"
   ]
  },
  {
   "cell_type": "code",
   "execution_count": 4,
   "metadata": {},
   "outputs": [],
   "source": [
    "output_cols = ['Subject',\n",
    "     'Block',\n",
    "     'TrialType',\n",
    "     'GoTrialResponse',\n",
    "     'GoTrialCorrectResponse',\n",
    "     'StopTrialResponse',\n",
    "     'GoRT',\n",
    "     'StopFailureRT',\n",
    "     'StopSignalDelay',\n",
    "     'stimulus']"
   ]
  },
  {
   "cell_type": "markdown",
   "metadata": {},
   "source": [
    "# simple high and low"
   ]
  },
  {
   "cell_type": "code",
   "execution_count": 5,
   "metadata": {},
   "outputs": [],
   "source": [
    "raw_ss_data = pd.read_csv('RawTurkData/stop_signal.csv', index_col=0)"
   ]
  },
  {
   "cell_type": "code",
   "execution_count": 6,
   "metadata": {},
   "outputs": [],
   "source": [
    "# split into high and low inorder to fit github's size limits\n",
    "raw_ss_data.query(\"condition=='high'\").to_csv('RawTurkData/stop_signal_high.csv', index=False)\n",
    "raw_ss_data.query(\"condition=='low'\").to_csv('RawTurkData/stop_signal_low.csv', index=False)\n"
   ]
  },
  {
   "cell_type": "code",
   "execution_count": 7,
   "metadata": {},
   "outputs": [
    {
     "name": "stderr",
     "output_type": "stream",
     "text": [
      "/Users/henrymj/anaconda3/lib/python3.7/site-packages/pandas/core/indexing.py:494: SettingWithCopyWarning: \n",
      "A value is trying to be set on a copy of a slice from a DataFrame.\n",
      "Try using .loc[row_indexer,col_indexer] = value instead\n",
      "\n",
      "See the caveats in the documentation: http://pandas.pydata.org/pandas-docs/stable/user_guide/indexing.html#returning-a-view-versus-a-copy\n",
      "  self.obj[item] = s\n"
     ]
    }
   ],
   "source": [
    "test_ss_data = clean_data_initial(raw_ss_data)\n",
    "test_ss_data = add_block(test_ss_data, range(0,300,50))"
   ]
  },
  {
   "cell_type": "code",
   "execution_count": 8,
   "metadata": {},
   "outputs": [],
   "source": [
    "DataTurkSimpleHigh = test_ss_data.query('condition==\"high\"')\n",
    "DataTurkSimpleHigh[output_cols].to_csv('CleanTurkData/DataTurkSimpleHigh.csv', index=False)"
   ]
  },
  {
   "cell_type": "code",
   "execution_count": 9,
   "metadata": {},
   "outputs": [],
   "source": [
    "DataTurkSimpleLow = test_ss_data.query('condition==\"low\"')\n",
    "DataTurkSimpleLow[output_cols].to_csv('CleanTurkData/DataTurkSimpleLow.csv', index=False)"
   ]
  },
  {
   "cell_type": "markdown",
   "metadata": {},
   "source": [
    "## stim selective"
   ]
  },
  {
   "cell_type": "code",
   "execution_count": 10,
   "metadata": {},
   "outputs": [],
   "source": [
    "raw_stim_ss_data = pd.read_csv('RawTurkData/stim_selective_stop_signal.csv', index_col=0)"
   ]
  },
  {
   "cell_type": "code",
   "execution_count": 11,
   "metadata": {},
   "outputs": [],
   "source": [
    "raw_stim_ss_data['SS_trial_type'] = raw_stim_ss_data['condition']"
   ]
  },
  {
   "cell_type": "code",
   "execution_count": 12,
   "metadata": {},
   "outputs": [],
   "source": [
    "test_stim_ss_data = clean_data_initial(raw_stim_ss_data)\n",
    "test_stim_ss_data = add_block(test_stim_ss_data, range(0,300,50))"
   ]
  },
  {
   "cell_type": "code",
   "execution_count": 13,
   "metadata": {},
   "outputs": [],
   "source": [
    "test_stim_ss_data[output_cols].to_csv('CleanTurkData/DataTurkStimSelec.csv', index=False)"
   ]
  },
  {
   "cell_type": "markdown",
   "metadata": {},
   "source": [
    "## motor selective"
   ]
  },
  {
   "cell_type": "code",
   "execution_count": 14,
   "metadata": {},
   "outputs": [],
   "source": [
    "def get_noncrit_key(data_df):\n",
    "    data_df = data_df.copy()\n",
    "\n",
    "    noncrit_keys = []\n",
    "    crit_keys = []\n",
    "    for key in data_df.correct_response.unique():\n",
    "        conditions = data_df.query(\"correct_response=='%s'\" % key).condition.unique()\n",
    "        if 'ignore' in conditions:\n",
    "            noncrit_keys.append(key)\n",
    "        else:\n",
    "            crit_keys.append(key)\n",
    "    assert len(noncrit_keys)==1\n",
    "    assert len(crit_keys)==1\n",
    "\n",
    "    return noncrit_keys[0], crit_keys[0]\n",
    "\n",
    "def fix_trialType_names(data_df):\n",
    "    data_df = data_df.copy()\n",
    "    noncrit_key, crit_key = get_noncrit_key(data_df)\n",
    "    data_df['new_condition'] = np.nan\n",
    "    data_df.loc[(data_df.condition=='go') & (data_df.correct_response==noncrit_key), 'new_condition'] = 'GoNoncritical'\n",
    "    data_df.loc[(data_df.condition=='go') & (data_df.correct_response==crit_key), 'new_condition'] = 'go'\n",
    "    data_df.loc[(data_df.condition=='ignore') & (data_df.correct_response==noncrit_key), 'new_condition'] = 'NonCritSignal'\n",
    "    data_df.loc[(data_df.condition=='stop') & (data_df.correct_response==crit_key), 'new_condition'] = 'stop'\n",
    "    data_df['SS_trial_type'] = data_df['new_condition']\n",
    "    \n",
    "    return data_df"
   ]
  },
  {
   "cell_type": "code",
   "execution_count": 15,
   "metadata": {},
   "outputs": [],
   "source": [
    "raw_motor_ss_data = pd.read_csv('RawTurkData/motor_selective_stop_signal.csv', index_col=0)"
   ]
  },
  {
   "cell_type": "code",
   "execution_count": 16,
   "metadata": {},
   "outputs": [],
   "source": [
    "new_group_data = pd.DataFrame()\n",
    "for sub in raw_motor_ss_data.worker_id.unique():\n",
    "    sub_df =  raw_motor_ss_data.query('worker_id==\"%s\"' % sub).copy()\n",
    "    sub_df = fix_trialType_names(sub_df)\n",
    "    new_group_data = pd.concat([new_group_data, sub_df], 0)"
   ]
  },
  {
   "cell_type": "code",
   "execution_count": 17,
   "metadata": {},
   "outputs": [],
   "source": [
    "cleaned_group_data = clean_data_initial(new_group_data, gocond='go')\n",
    "\n",
    "cleaned_motor_data = add_block(cleaned_group_data, range(0,300,50))\n",
    "\n",
    "cleaned_motor_data[output_cols].to_csv('CleanTurkData/DataTurkMotorSelec.csv', index=False)"
   ]
  },
  {
   "cell_type": "markdown",
   "metadata": {},
   "source": [
    "# Violation Analysis for each stimulus"
   ]
  },
  {
   "cell_type": "code",
   "execution_count": 18,
   "metadata": {},
   "outputs": [],
   "source": [
    "def violation_analysis_mturk_stim_specific(d, save_results=False, verbose=False, stimulus='', sub_ssd_minimum=2):\n",
    "    \n",
    "    condition_name = 'UNKNOWN'\n",
    "    if isinstance(d, str): #if it's a string, read in the file and print the condition name (used to v_a.ipynb)\n",
    "        condition_name = d.replace('Data/Data', '').replace('.xlsx', '')#drop path and extension.\n",
    "        if verbose: print(formats.BOLD + '*'*80 + formats.END)\n",
    "        if verbose: print(formats.BOLD + condition_name + formats.END)\n",
    "        d = read_cond_file(d)\n",
    "        \n",
    "    \n",
    "    if 'GoCriticalRT' in d.columns: \n",
    "        go_key = 'GoCriticalRT'\n",
    "    elif 'Target.RT' in d.columns: #ADDED FOR MATZKE DATA\n",
    "        go_key = 'Target.RT'\n",
    "    else: \n",
    "        go_key = 'GoRT'\n",
    "    \n",
    "        \n",
    "    stopFailRT = 'StopFailureRT'\n",
    "    if 'TargetDelay.RT' in d.columns: stopFailRT = 'TargetDelay.RT' #ADDED FOR MATZKE DATA\n",
    "        \n",
    "    \n",
    "    if 'Block' not in d.columns: d['Block'] = 1 #ADDED FOR MATZKE DATA - insert dummy block\n",
    "    \n",
    "    info = []\n",
    "    condition_subjects = d.Subject.unique()\n",
    "    if len(condition_subjects)==522: condition_subjects = full_passed_turkers\n",
    "    for subject in condition_subjects:\n",
    "        subdata = d.query('Subject == %d' % subject)\n",
    "        if verbose: print('subject %d: found %d trials' % (subject, subdata.shape[0]))\n",
    "        ssdvals = [i for i in subdata.StopSignalDelay.unique() if isinstance(i, float) and i >=0] #ignore nan/missing values and 0/negative SSDs\n",
    "        ssdvals.sort()\n",
    "\n",
    "        # You find all pairs of trials in which the first is a go trials with a response and the second is a \n",
    "        # stop trial with a response. Both trials need to come from the same subject and block. \n",
    "        # This should be done separately for each SSD. Then the RT for the first trial in the pair should be \n",
    "        # subtracted from the second. This is the core analysis per SSD per subject.\n",
    "\n",
    "        for ssd in ssdvals:\n",
    "            ssd_data = subdata.query('(StopSignalDelay == %d) & (stimulus == \"%s\")' % (ssd, stimulus))\n",
    "            signal_respond_data = ssd_data.dropna(subset=[stopFailRT])\n",
    "            signal_respond_data = signal_respond_data.loc[signal_respond_data[stopFailRT] > 0, :]\n",
    "            # for each signal respond trial, determine whether the previous trial was a go trial in the same block\n",
    "            signal_respond_data['MatchingGo'] = np.nan\n",
    "            if signal_respond_data.shape[0] > 0:\n",
    "                for t in signal_respond_data.index:\n",
    "                    if t < 1:\n",
    "                        continue\n",
    "                    prevtrial = d.loc[int(t) - 1, :]\n",
    "                    if prevtrial.Block == signal_respond_data.loc[t, 'Block']: # blockmatch\n",
    "                        if (prevtrial[go_key] > 0.0): #skip omissions\n",
    "                            signal_respond_data.loc[t, 'MatchingGo'] = prevtrial[go_key]\n",
    "                signal_respond_data = signal_respond_data.dropna(subset=['MatchingGo'])\n",
    "            # I expect to see RuntimeWarnings when there only nans passed to nanmean (i.e. no stop failures and/or preceding GoRTs at some ssd)\n",
    "            with warnings.catch_warnings():\n",
    "                warnings.simplefilter(\"ignore\", category=RuntimeWarning)\n",
    "                info.append([subject, \n",
    "                             ssd, \n",
    "                             ssd_data.shape[0], \n",
    "                             signal_respond_data.shape[0],\n",
    "                             np.nanmean(signal_respond_data[stopFailRT]\\\n",
    "                                          - signal_respond_data.MatchingGo),\n",
    "                             np.nanmean(signal_respond_data[stopFailRT]),\n",
    "                             np.nanmean(signal_respond_data.MatchingGo)])\n",
    "\n",
    "    info_df = pd.DataFrame(info, columns=['subject', 'ssd', 'nstoptrials', \n",
    "                                             'n_matched_go', 'mean_violation', 'mean_stopFailureRT', 'mean_precedingGoRT'])\n",
    "\n",
    "\n",
    "    # However, I only include data at a given SSD for a given subject\n",
    "    # (for things like figures or inferential stats) if there are at least 2 pairs of trials for that subject. \n",
    "\n",
    "    info_df = info_df.query('n_matched_go >= %d' % sub_ssd_minimum)\n",
    "\n",
    "    # And I only include an SSD for the experiment (for things like Figure 1) if \n",
    "    # 5 subjects have at least 2 pairs of trials for that SSD. So to reproduce the main data, \n",
    "    # you'll want to apply these same thresholds.\n",
    "\n",
    "    all_ssdvals = info_df.ssd.unique()\n",
    "    all_ssdvals.sort()\n",
    "\n",
    "    for ssd in all_ssdvals:\n",
    "        info_df_ssd = info_df.query('ssd == %d' % ssd)\n",
    "        if verbose: print(ssd, 'n subs with data:', info_df_ssd.shape[0])\n",
    "        if info_df_ssd.shape[0] < 5:\n",
    "            info_df = info_df.query('ssd != %d' % ssd)\n",
    "            if verbose: print('dropping', ssd)\n",
    "    \n",
    "    return info_df"
   ]
  },
  {
   "cell_type": "code",
   "execution_count": 19,
   "metadata": {},
   "outputs": [],
   "source": [
    "def get_and_plot_violations_by_stim(va_dict):\n",
    "    violation_by_SSD_perCondition = None\n",
    "    for condition_name, curr_df in va_dict.items():\n",
    "        curr_violation_series = curr_df.groupby('ssd').mean()['mean_violation'] #get the mean violation per SSD across subjects as a pd Series\n",
    "        curr_violation_series.name = condition_name #name the series after the condition\n",
    "        if violation_by_SSD_perCondition is None: #create or add the series to a full DF\n",
    "            violation_by_SSD_perCondition = curr_violation_series\n",
    "        else:\n",
    "            violation_by_SSD_perCondition = pd.concat([violation_by_SSD_perCondition,\n",
    "                                                       curr_violation_series], axis=1)\n",
    "\n",
    "    print(violation_by_SSD_perCondition.head(6))\n",
    "    if len(violation_by_SSD_perCondition) > 1:\n",
    "        _ = plt.plot(violation_by_SSD_perCondition.interpolate(limit_area='inside', method='slinear'), alpha=0.75)\n",
    "        _ = plt.legend(violation_by_SSD_perCondition.columns)\n",
    "        plt.show()\n",
    "        plt.close()\n",
    "    return(violation_by_SSD_perCondition)"
   ]
  },
  {
   "cell_type": "code",
   "execution_count": 20,
   "metadata": {},
   "outputs": [],
   "source": [
    "# mean across high and low stims which are the same\n",
    "def mean_high_and_low_violations(violations_by_ssd_by_stim):\n",
    "    df = violations_by_ssd_by_stim.copy()\n",
    "    return df.groupby(by=df.columns, axis=1).apply(lambda g: g.mean(axis=1) if isinstance(g.iloc[0,0], numbers.Number) else g.iloc[:,0])"
   ]
  },
  {
   "cell_type": "code",
   "execution_count": 21,
   "metadata": {},
   "outputs": [],
   "source": [
    "def correlate_violations_with_visdegs(violations_by_ssd_by_stim, visual_angles):\n",
    "    violations_by_ssd_by_stim = mean_high_and_low_violations(violations_by_ssd_by_stim)\n",
    "    visual_angles = visual_angles[violations_by_ssd_by_stim.columns]\n",
    "\n",
    "    violation_angle_corr_by_ssd = pd.concat([violations_by_ssd_by_stim, visual_angles], 0).T.corr().loc['VA diff', violations_by_ssd_by_stim.T.columns]\n",
    "    \n",
    "    if len(violation_angle_corr_by_ssd) > 1:\n",
    "        plt.plot(violation_angle_corr_by_ssd)\n",
    "    print(violation_angle_corr_by_ssd)"
   ]
  },
  {
   "cell_type": "code",
   "execution_count": 22,
   "metadata": {},
   "outputs": [],
   "source": [
    "visual_angles = pd.read_csv('CleanTurkData/mturk_stop_tasks_visual_degrees.csv')\n",
    "visual_angles = visual_angles[['shape name', 'VA diff']].set_index('shape name').T\n",
    "\n",
    "data_dict = {}\n",
    "data_dict['simpleHigh'] = pd.read_csv('CleanTurkData/DataTurkSimpleHigh.csv')\n",
    "data_dict['simpleLow'] = pd.read_csv('CleanTurkData/DataTurkSimpleLow.csv')\n",
    "data_dict['stimSelec'] = pd.read_csv('CleanTurkData/DataTurkStimSelec.csv')\n",
    "data_dict['motorSelec'] = pd.read_csv('CleanTurkData/DataTurkMotorSelec.csv')"
   ]
  },
  {
   "cell_type": "code",
   "execution_count": null,
   "metadata": {},
   "outputs": [
    {
     "name": "stdout",
     "output_type": "stream",
     "text": [
      "simpleHigh\n",
      "            tear   hourglass     square   pentagon\n",
      "ssd                                               \n",
      "0.0    42.833333   93.809524   4.384722  23.140741\n",
      "100.0 -20.366667  114.266667  28.872222  86.338095\n",
      "150.0 -39.583333  -25.077381 -21.146032  49.478070\n",
      "200.0  -7.229885   -0.134195 -24.314583  16.118333\n",
      "250.0 -30.427822  -26.656868 -52.187443   2.491199\n",
      "300.0 -34.040896  -38.874149 -45.642293 -26.667184\n"
     ]
    },
    {
     "data": {
      "image/png": "[encoded data removed]",
      "text/plain": [
       "<Figure size 432x288 with 1 Axes>"
      ]
     },
     "metadata": {
      "needs_background": "light"
     },
     "output_type": "display_data"
    },
    {
     "name": "stdout",
     "output_type": "stream",
     "text": [
      "simpleLow\n"
     ]
    }
   ],
   "source": [
    "violations_by_ssd_by_stim = pd.DataFrame()\n",
    "for title, data_df in data_dict.items():\n",
    "    print(title)\n",
    "    va_dict = {}\n",
    "    for stim in data_df.stimulus.unique():\n",
    "        va_dict[stim] = violation_analysis_mturk_stim_specific(data_df, stimulus=stim)\n",
    "    violations_by_ssd_by_stim = pd.concat([violations_by_ssd_by_stim, get_and_plot_violations_by_stim(va_dict)], 1, sort=True)"
   ]
  },
  {
   "cell_type": "markdown",
   "metadata": {},
   "source": [
    "## lower threshold to 1 pair per ssd per subject to increase SNR"
   ]
  },
  {
   "cell_type": "code",
   "execution_count": null,
   "metadata": {},
   "outputs": [],
   "source": [
    "violations_by_ssd_by_stim = pd.DataFrame()\n",
    "for title, data_df in data_dict.items():\n",
    "    print(title)\n",
    "    va_dict = {}\n",
    "    for stim in data_df.stimulus.unique():\n",
    "        va_dict[stim] = violation_analysis_mturk_stim_specific(data_df, stimulus=stim, sub_ssd_minimum=1)\n",
    "    violations_by_ssd_by_stim = pd.concat([violations_by_ssd_by_stim, get_and_plot_violations_by_stim(va_dict)], 1, sort=True)"
   ]
  },
  {
   "cell_type": "code",
   "execution_count": null,
   "metadata": {},
   "outputs": [],
   "source": [
    "correlate_violations_with_visdegs(violations_by_ssd_by_stim, visual_angles)"
   ]
  },
  {
   "cell_type": "markdown",
   "metadata": {},
   "source": [
    "# group short SSDs"
   ]
  },
  {
   "cell_type": "code",
   "execution_count": null,
   "metadata": {},
   "outputs": [],
   "source": [
    "def violation_analysis_mturk_stim_specific_clump_short_ssds(d, save_results=False, verbose=False, stimulus='', sub_ssd_minimum=2):\n",
    "    \n",
    "    condition_name = 'UNKNOWN'\n",
    "    if isinstance(d, str): #if it's a string, read in the file and print the condition name (used to v_a.ipynb)\n",
    "        condition_name = d.replace('Data/Data', '').replace('.xlsx', '')#drop path and extension.\n",
    "        if verbose: print(formats.BOLD + '*'*80 + formats.END)\n",
    "        if verbose: print(formats.BOLD + condition_name + formats.END)\n",
    "        d = read_cond_file(d)\n",
    "        \n",
    "    \n",
    "    if 'GoCriticalRT' in d.columns: \n",
    "        go_key = 'GoCriticalRT'\n",
    "    elif 'Target.RT' in d.columns: #ADDED FOR MATZKE DATA\n",
    "        go_key = 'Target.RT'\n",
    "    else: \n",
    "        go_key = 'GoRT'\n",
    "    \n",
    "        \n",
    "    stopFailRT = 'StopFailureRT'\n",
    "    if 'TargetDelay.RT' in d.columns: stopFailRT = 'TargetDelay.RT' #ADDED FOR MATZKE DATA\n",
    "        \n",
    "    \n",
    "    if 'Block' not in d.columns: d['Block'] = 1 #ADDED FOR MATZKE DATA - insert dummy block\n",
    "    \n",
    "    info = []\n",
    "    condition_subjects = d.Subject.unique()\n",
    "    if len(condition_subjects)==522: condition_subjects = full_passed_turkers\n",
    "    for subject in condition_subjects:\n",
    "        subdata = d.query('Subject == %d' % subject)\n",
    "        if verbose: print('subject %d: found %d trials' % (subject, subdata.shape[0]))\n",
    "        ssdvals = [i for i in subdata.StopSignalDelay.unique() if isinstance(i, float) and i >=0] #ignore nan/missing values and 0/negative SSDs\n",
    "        ssdvals.sort()\n",
    "\n",
    "        # You find all pairs of trials in which the first is a go trials with a response and the second is a \n",
    "        # stop trial with a response. Both trials need to come from the same subject and block. \n",
    "        # This should be done separately for each SSD. Then the RT for the first trial in the pair should be \n",
    "        # subtracted from the second. This is the core analysis per SSD per subject.\n",
    "\n",
    "        ssd = 200\n",
    "        ssd_data = subdata.query('(StopSignalDelay < %d) & (stimulus == \"%s\")' % (ssd, stimulus))\n",
    "        signal_respond_data = ssd_data.dropna(subset=[stopFailRT])\n",
    "        signal_respond_data = signal_respond_data.loc[signal_respond_data[stopFailRT] > 0, :]\n",
    "        # for each signal respond trial, determine whether the previous trial was a go trial in the same block\n",
    "        signal_respond_data['MatchingGo'] = np.nan\n",
    "        if signal_respond_data.shape[0] > 0:\n",
    "            for t in signal_respond_data.index:\n",
    "                if t < 1:\n",
    "                    continue\n",
    "                prevtrial = d.loc[int(t) - 1, :]\n",
    "                if prevtrial.Block == signal_respond_data.loc[t, 'Block']: # blockmatch\n",
    "                    if (prevtrial[go_key] > 0.0): #skip omissions\n",
    "                        signal_respond_data.loc[t, 'MatchingGo'] = prevtrial[go_key]\n",
    "            signal_respond_data = signal_respond_data.dropna(subset=['MatchingGo'])\n",
    "        # I expect to see RuntimeWarnings when there only nans passed to nanmean (i.e. no stop failures and/or preceding GoRTs at some ssd)\n",
    "        with warnings.catch_warnings():\n",
    "            warnings.simplefilter(\"ignore\", category=RuntimeWarning)\n",
    "            info.append([subject, \n",
    "                         ssd, \n",
    "                         ssd_data.shape[0], \n",
    "                         signal_respond_data.shape[0],\n",
    "                         np.nanmean(signal_respond_data[stopFailRT]\\\n",
    "                                      - signal_respond_data.MatchingGo),\n",
    "                         np.nanmean(signal_respond_data[stopFailRT]),\n",
    "                         np.nanmean(signal_respond_data.MatchingGo)])\n",
    "\n",
    "    info_df = pd.DataFrame(info, columns=['subject', 'ssd', 'nstoptrials', \n",
    "                                             'n_matched_go', 'mean_violation', 'mean_stopFailureRT', 'mean_precedingGoRT'])\n",
    "\n",
    "    # However, I only include data at a given SSD for a given subject\n",
    "    # (for things like figures or inferential stats) if there are at least 2 pairs of trials for that subject. \n",
    "\n",
    "    info_df = info_df.query('n_matched_go >= %d' % sub_ssd_minimum)\n",
    "    \n",
    "    return info_df"
   ]
  },
  {
   "cell_type": "code",
   "execution_count": null,
   "metadata": {},
   "outputs": [],
   "source": [
    "violations_by_ssd_by_stim = pd.DataFrame()\n",
    "for title, data_df in data_dict.items():\n",
    "    print(title)\n",
    "    va_dict = {}\n",
    "    for stim in data_df.stimulus.unique():\n",
    "        va_dict[stim] = violation_analysis_mturk_stim_specific_clump_short_ssds(data_df, stimulus=stim)\n",
    "    violations_by_ssd_by_stim = pd.concat([violations_by_ssd_by_stim, get_and_plot_violations_by_stim(va_dict)], 1, sort=True)"
   ]
  },
  {
   "cell_type": "code",
   "execution_count": null,
   "metadata": {},
   "outputs": [],
   "source": [
    "# simple\n",
    "def get_condition_correlation(title, indices):\n",
    "    stimulus_vals = violations_by_ssd_by_stim.iloc[:, indices].copy()\n",
    "    df_to_corr = pd.concat([stimulus_vals, visual_angles[stimulus_vals.columns]]).T\n",
    "    print('%s: ' % title, df_to_corr.corr().loc['VA diff', simpleHighvals.T.columns].values[0])\n",
    "    return df_to_corr"
   ]
  },
  {
   "cell_type": "code",
   "execution_count": null,
   "metadata": {},
   "outputs": [],
   "source": [
    "arg_tuples = [('SimpleHigh', np.arange(0,4)),\n",
    "              ('SimpleLow', np.arange(4,8)),\n",
    "              ('StimSelec', np.arange(8,12)),\n",
    "              ('MotorSelec', np.arange(12,16))]\n",
    "\n",
    "condition_correlations = {}\n",
    "for title, indices in arg_tuples:\n",
    "    condition_correlations[title] = get_condition_correlation(title, indices)"
   ]
  },
  {
   "cell_type": "code",
   "execution_count": null,
   "metadata": {},
   "outputs": [],
   "source": [
    "condition_correlations['SimpleHigh']"
   ]
  },
  {
   "cell_type": "code",
   "execution_count": null,
   "metadata": {},
   "outputs": [],
   "source": [
    "condition_correlations['SimpleLow']"
   ]
  },
  {
   "cell_type": "code",
   "execution_count": null,
   "metadata": {},
   "outputs": [],
   "source": [
    "condition_correlations['StimSelec']"
   ]
  },
  {
   "cell_type": "code",
   "execution_count": null,
   "metadata": {},
   "outputs": [],
   "source": [
    "condition_correlations['MotorSelec']"
   ]
  }
 ],
 "metadata": {
  "kernelspec": {
   "display_name": "Python 3",
   "language": "python",
   "name": "python3"
  },
  "language_info": {
   "codemirror_mode": {
    "name": "ipython",
    "version": 3
   },
   "file_extension": ".py",
   "mimetype": "text/x-python",
   "name": "python",
   "nbconvert_exporter": "python",
   "pygments_lexer": "ipython3",
   "version": "3.7.3"
  }
 },
 "nbformat": 4,
 "nbformat_minor": 4
}
